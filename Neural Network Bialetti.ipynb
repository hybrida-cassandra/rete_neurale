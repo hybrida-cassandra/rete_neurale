{
 "cells": [
  {
   "cell_type": "code",
   "execution_count": 1,
   "metadata": {},
   "outputs": [],
   "source": [
    "import pandas as pd\n",
    "import seaborn as sns\n",
    "import matplotlib.pyplot as plt\n",
    "from sklearn.compose import ColumnTransformer\n",
    "from sklearn.model_selection import GridSearchCV\n",
    "from sklearn.neural_network import MLPRegressor\n",
    "from sklearn.preprocessing import QuantileTransformer, OneHotEncoder, Normalizer\n",
    "from sklearn import set_config\n",
    "set_config(display='diagram')\n",
    "from sklearn.pipeline import Pipeline\n",
    "from sklearn.model_selection import train_test_split\n",
    "from joblib import load, dump"
   ]
  },
  {
   "cell_type": "code",
   "execution_count": 21,
   "metadata": {},
   "outputs": [
    {
     "data": {
      "text/html": [
       "<div>\n",
       "<style scoped>\n",
       "    .dataframe tbody tr th:only-of-type {\n",
       "        vertical-align: middle;\n",
       "    }\n",
       "\n",
       "    .dataframe tbody tr th {\n",
       "        vertical-align: top;\n",
       "    }\n",
       "\n",
       "    .dataframe thead th {\n",
       "        text-align: right;\n",
       "    }\n",
       "</style>\n",
       "<table border=\"1\" class=\"dataframe\">\n",
       "  <thead>\n",
       "    <tr style=\"text-align: right;\">\n",
       "      <th></th>\n",
       "      <th>Giorno</th>\n",
       "      <th>Transazioni</th>\n",
       "      <th>Spesa Facebook</th>\n",
       "      <th>Spesa Google</th>\n",
       "      <th>Organico</th>\n",
       "    </tr>\n",
       "  </thead>\n",
       "  <tbody>\n",
       "    <tr>\n",
       "      <th>0</th>\n",
       "      <td>01/07/18</td>\n",
       "      <td>0</td>\n",
       "      <td>0.0</td>\n",
       "      <td>0.0</td>\n",
       "      <td>32.0</td>\n",
       "    </tr>\n",
       "    <tr>\n",
       "      <th>1</th>\n",
       "      <td>02/07/18</td>\n",
       "      <td>0</td>\n",
       "      <td>0.0</td>\n",
       "      <td>0.0</td>\n",
       "      <td>41.0</td>\n",
       "    </tr>\n",
       "    <tr>\n",
       "      <th>2</th>\n",
       "      <td>03/07/18</td>\n",
       "      <td>0</td>\n",
       "      <td>0.0</td>\n",
       "      <td>0.0</td>\n",
       "      <td>28.0</td>\n",
       "    </tr>\n",
       "    <tr>\n",
       "      <th>3</th>\n",
       "      <td>04/07/18</td>\n",
       "      <td>0</td>\n",
       "      <td>0.0</td>\n",
       "      <td>0.0</td>\n",
       "      <td>21.0</td>\n",
       "    </tr>\n",
       "    <tr>\n",
       "      <th>4</th>\n",
       "      <td>05/07/18</td>\n",
       "      <td>0</td>\n",
       "      <td>0.0</td>\n",
       "      <td>0.0</td>\n",
       "      <td>32.0</td>\n",
       "    </tr>\n",
       "  </tbody>\n",
       "</table>\n",
       "</div>"
      ],
      "text/plain": [
       "     Giorno  Transazioni  Spesa Facebook  Spesa Google   Organico\n",
       "0  01/07/18            0             0.0            0.0      32.0\n",
       "1  02/07/18            0             0.0            0.0      41.0\n",
       "2  03/07/18            0             0.0            0.0      28.0\n",
       "3  04/07/18            0             0.0            0.0      21.0\n",
       "4  05/07/18            0             0.0            0.0      32.0"
      ]
     },
     "execution_count": 21,
     "metadata": {},
     "output_type": "execute_result"
    }
   ],
   "source": [
    "df = pd.read_csv('/Users/gabriele/Downloads/Dataset attribuzioni Bialetti - Overall.csv')\n",
    "df.head()"
   ]
  },
  {
   "cell_type": "code",
   "execution_count": 22,
   "metadata": {},
   "outputs": [
    {
     "data": {
      "text/html": [
       "<div>\n",
       "<style scoped>\n",
       "    .dataframe tbody tr th:only-of-type {\n",
       "        vertical-align: middle;\n",
       "    }\n",
       "\n",
       "    .dataframe tbody tr th {\n",
       "        vertical-align: top;\n",
       "    }\n",
       "\n",
       "    .dataframe thead th {\n",
       "        text-align: right;\n",
       "    }\n",
       "</style>\n",
       "<table border=\"1\" class=\"dataframe\">\n",
       "  <thead>\n",
       "    <tr style=\"text-align: right;\">\n",
       "      <th></th>\n",
       "      <th>Giorno</th>\n",
       "      <th>Transazioni</th>\n",
       "      <th>Spesa Facebook</th>\n",
       "      <th>Spesa Google</th>\n",
       "      <th>Organico</th>\n",
       "    </tr>\n",
       "  </thead>\n",
       "  <tbody>\n",
       "    <tr>\n",
       "      <th>0</th>\n",
       "      <td>2018-07-01</td>\n",
       "      <td>0</td>\n",
       "      <td>0.0</td>\n",
       "      <td>0.0</td>\n",
       "      <td>32.0</td>\n",
       "    </tr>\n",
       "    <tr>\n",
       "      <th>1</th>\n",
       "      <td>2018-07-02</td>\n",
       "      <td>0</td>\n",
       "      <td>0.0</td>\n",
       "      <td>0.0</td>\n",
       "      <td>41.0</td>\n",
       "    </tr>\n",
       "    <tr>\n",
       "      <th>2</th>\n",
       "      <td>2018-07-03</td>\n",
       "      <td>0</td>\n",
       "      <td>0.0</td>\n",
       "      <td>0.0</td>\n",
       "      <td>28.0</td>\n",
       "    </tr>\n",
       "    <tr>\n",
       "      <th>3</th>\n",
       "      <td>2018-07-04</td>\n",
       "      <td>0</td>\n",
       "      <td>0.0</td>\n",
       "      <td>0.0</td>\n",
       "      <td>21.0</td>\n",
       "    </tr>\n",
       "    <tr>\n",
       "      <th>4</th>\n",
       "      <td>2018-07-05</td>\n",
       "      <td>0</td>\n",
       "      <td>0.0</td>\n",
       "      <td>0.0</td>\n",
       "      <td>32.0</td>\n",
       "    </tr>\n",
       "  </tbody>\n",
       "</table>\n",
       "</div>"
      ],
      "text/plain": [
       "      Giorno  Transazioni  Spesa Facebook  Spesa Google   Organico\n",
       "0 2018-07-01            0             0.0            0.0      32.0\n",
       "1 2018-07-02            0             0.0            0.0      41.0\n",
       "2 2018-07-03            0             0.0            0.0      28.0\n",
       "3 2018-07-04            0             0.0            0.0      21.0\n",
       "4 2018-07-05            0             0.0            0.0      32.0"
      ]
     },
     "execution_count": 22,
     "metadata": {},
     "output_type": "execute_result"
    }
   ],
   "source": [
    "df['Giorno'] = pd.to_datetime(df['Giorno'],dayfirst=True, yearfirst=False)\n",
    "df.head()"
   ]
  },
  {
   "cell_type": "code",
   "execution_count": 25,
   "metadata": {},
   "outputs": [
    {
     "data": {
      "text/plain": [
       "Index(['Giorno', 'Transazioni', 'Spesa Facebook', 'Spesa Google ', 'Organico',\n",
       "       'day_week', 'month'],\n",
       "      dtype='object')"
      ]
     },
     "execution_count": 25,
     "metadata": {},
     "output_type": "execute_result"
    }
   ],
   "source": [
    "s = df['Giorno'].dt.weekday\n",
    "df['day_week'] =s\n",
    "df['month'] = pd.DatetimeIndex(df['Giorno']).month\n",
    "df.head()\n",
    "df.columns"
   ]
  },
  {
   "cell_type": "code",
   "execution_count": 29,
   "metadata": {},
   "outputs": [
    {
     "data": {
      "text/html": [
       "<div>\n",
       "<style scoped>\n",
       "    .dataframe tbody tr th:only-of-type {\n",
       "        vertical-align: middle;\n",
       "    }\n",
       "\n",
       "    .dataframe tbody tr th {\n",
       "        vertical-align: top;\n",
       "    }\n",
       "\n",
       "    .dataframe thead th {\n",
       "        text-align: right;\n",
       "    }\n",
       "</style>\n",
       "<table border=\"1\" class=\"dataframe\">\n",
       "  <thead>\n",
       "    <tr style=\"text-align: right;\">\n",
       "      <th></th>\n",
       "      <th>Giorno</th>\n",
       "      <th>Transazioni</th>\n",
       "      <th>Spesa Facebook</th>\n",
       "      <th>google</th>\n",
       "      <th>Organico</th>\n",
       "      <th>day_week</th>\n",
       "      <th>month</th>\n",
       "    </tr>\n",
       "  </thead>\n",
       "  <tbody>\n",
       "    <tr>\n",
       "      <th>968</th>\n",
       "      <td>2021-02-23</td>\n",
       "      <td>45</td>\n",
       "      <td>372.99</td>\n",
       "      <td>0.00</td>\n",
       "      <td>283.0</td>\n",
       "      <td>1</td>\n",
       "      <td>2</td>\n",
       "    </tr>\n",
       "    <tr>\n",
       "      <th>508</th>\n",
       "      <td>2019-11-21</td>\n",
       "      <td>0</td>\n",
       "      <td>0.00</td>\n",
       "      <td>0.00</td>\n",
       "      <td>60.0</td>\n",
       "      <td>3</td>\n",
       "      <td>11</td>\n",
       "    </tr>\n",
       "    <tr>\n",
       "      <th>236</th>\n",
       "      <td>2019-02-22</td>\n",
       "      <td>0</td>\n",
       "      <td>0.00</td>\n",
       "      <td>0.00</td>\n",
       "      <td>41.0</td>\n",
       "      <td>4</td>\n",
       "      <td>2</td>\n",
       "    </tr>\n",
       "    <tr>\n",
       "      <th>1139</th>\n",
       "      <td>2021-08-13</td>\n",
       "      <td>28</td>\n",
       "      <td>270.59</td>\n",
       "      <td>68.36</td>\n",
       "      <td>170.0</td>\n",
       "      <td>4</td>\n",
       "      <td>8</td>\n",
       "    </tr>\n",
       "    <tr>\n",
       "      <th>881</th>\n",
       "      <td>2020-11-28</td>\n",
       "      <td>23</td>\n",
       "      <td>29.00</td>\n",
       "      <td>0.00</td>\n",
       "      <td>202.0</td>\n",
       "      <td>5</td>\n",
       "      <td>11</td>\n",
       "    </tr>\n",
       "    <tr>\n",
       "      <th>951</th>\n",
       "      <td>2021-02-06</td>\n",
       "      <td>21</td>\n",
       "      <td>137.82</td>\n",
       "      <td>0.00</td>\n",
       "      <td>240.0</td>\n",
       "      <td>5</td>\n",
       "      <td>2</td>\n",
       "    </tr>\n",
       "    <tr>\n",
       "      <th>335</th>\n",
       "      <td>2019-06-01</td>\n",
       "      <td>0</td>\n",
       "      <td>0.00</td>\n",
       "      <td>0.00</td>\n",
       "      <td>70.0</td>\n",
       "      <td>5</td>\n",
       "      <td>6</td>\n",
       "    </tr>\n",
       "    <tr>\n",
       "      <th>264</th>\n",
       "      <td>2019-03-22</td>\n",
       "      <td>0</td>\n",
       "      <td>0.00</td>\n",
       "      <td>0.00</td>\n",
       "      <td>62.0</td>\n",
       "      <td>4</td>\n",
       "      <td>3</td>\n",
       "    </tr>\n",
       "    <tr>\n",
       "      <th>643</th>\n",
       "      <td>2020-04-04</td>\n",
       "      <td>0</td>\n",
       "      <td>5.66</td>\n",
       "      <td>0.00</td>\n",
       "      <td>69.0</td>\n",
       "      <td>5</td>\n",
       "      <td>4</td>\n",
       "    </tr>\n",
       "    <tr>\n",
       "      <th>442</th>\n",
       "      <td>2019-09-16</td>\n",
       "      <td>0</td>\n",
       "      <td>0.00</td>\n",
       "      <td>0.00</td>\n",
       "      <td>92.0</td>\n",
       "      <td>0</td>\n",
       "      <td>9</td>\n",
       "    </tr>\n",
       "  </tbody>\n",
       "</table>\n",
       "</div>"
      ],
      "text/plain": [
       "         Giorno  Transazioni  Spesa Facebook  google  Organico  day_week  \\\n",
       "968  2021-02-23           45          372.99    0.00     283.0         1   \n",
       "508  2019-11-21            0            0.00    0.00      60.0         3   \n",
       "236  2019-02-22            0            0.00    0.00      41.0         4   \n",
       "1139 2021-08-13           28          270.59   68.36     170.0         4   \n",
       "881  2020-11-28           23           29.00    0.00     202.0         5   \n",
       "951  2021-02-06           21          137.82    0.00     240.0         5   \n",
       "335  2019-06-01            0            0.00    0.00      70.0         5   \n",
       "264  2019-03-22            0            0.00    0.00      62.0         4   \n",
       "643  2020-04-04            0            5.66    0.00      69.0         5   \n",
       "442  2019-09-16            0            0.00    0.00      92.0         0   \n",
       "\n",
       "      month  \n",
       "968       2  \n",
       "508      11  \n",
       "236       2  \n",
       "1139      8  \n",
       "881      11  \n",
       "951       2  \n",
       "335       6  \n",
       "264       3  \n",
       "643       4  \n",
       "442       9  "
      ]
     },
     "execution_count": 29,
     "metadata": {},
     "output_type": "execute_result"
    }
   ],
   "source": [
    "df=df.rename(columns={'Spesa Google ':'google'})\n",
    "df.sample(10)"
   ]
  },
  {
   "cell_type": "code",
   "execution_count": 30,
   "metadata": {},
   "outputs": [
    {
     "data": {
      "text/html": [
       "<style>div.sk-top-container {color: black;background-color: white;}div.sk-toggleable {background-color: white;}label.sk-toggleable__label {cursor: pointer;display: block;width: 100%;margin-bottom: 0;padding: 0.2em 0.3em;box-sizing: border-box;text-align: center;}div.sk-toggleable__content {max-height: 0;max-width: 0;overflow: hidden;text-align: left;background-color: #f0f8ff;}div.sk-toggleable__content pre {margin: 0.2em;color: black;border-radius: 0.25em;background-color: #f0f8ff;}input.sk-toggleable__control:checked~div.sk-toggleable__content {max-height: 200px;max-width: 100%;overflow: auto;}div.sk-estimator input.sk-toggleable__control:checked~label.sk-toggleable__label {background-color: #d4ebff;}div.sk-label input.sk-toggleable__control:checked~label.sk-toggleable__label {background-color: #d4ebff;}input.sk-hidden--visually {border: 0;clip: rect(1px 1px 1px 1px);clip: rect(1px, 1px, 1px, 1px);height: 1px;margin: -1px;overflow: hidden;padding: 0;position: absolute;width: 1px;}div.sk-estimator {font-family: monospace;background-color: #f0f8ff;margin: 0.25em 0.25em;border: 1px dotted black;border-radius: 0.25em;box-sizing: border-box;}div.sk-estimator:hover {background-color: #d4ebff;}div.sk-parallel-item::after {content: \"\";width: 100%;border-bottom: 1px solid gray;flex-grow: 1;}div.sk-label:hover label.sk-toggleable__label {background-color: #d4ebff;}div.sk-serial::before {content: \"\";position: absolute;border-left: 1px solid gray;box-sizing: border-box;top: 2em;bottom: 0;left: 50%;}div.sk-serial {display: flex;flex-direction: column;align-items: center;background-color: white;}div.sk-item {z-index: 1;}div.sk-parallel {display: flex;align-items: stretch;justify-content: center;background-color: white;}div.sk-parallel-item {display: flex;flex-direction: column;position: relative;background-color: white;}div.sk-parallel-item:first-child::after {align-self: flex-end;width: 50%;}div.sk-parallel-item:last-child::after {align-self: flex-start;width: 50%;}div.sk-parallel-item:only-child::after {width: 0;}div.sk-dashed-wrapped {border: 1px dashed gray;margin: 0.2em;box-sizing: border-box;padding-bottom: 0.1em;background-color: white;position: relative;}div.sk-label label {font-family: monospace;font-weight: bold;background-color: white;display: inline-block;line-height: 1.2em;}div.sk-label-container {position: relative;z-index: 2;text-align: center;}div.sk-container {display: inline-block;position: relative;}</style><div class=\"sk-top-container\"><div class=\"sk-container\"><div class=\"sk-item sk-dashed-wrapped\"><div class=\"sk-label-container\"><div class=\"sk-label sk-toggleable\"><input class=\"sk-toggleable__control sk-hidden--visually\" id=\"f6f691bc-2e72-4add-823d-77088d36e80e\" type=\"checkbox\" ><label class=\"sk-toggleable__label\" for=\"f6f691bc-2e72-4add-823d-77088d36e80e\">Pipeline</label><div class=\"sk-toggleable__content\"><pre>Pipeline(steps=[('column_transformer',\n",
       "                 ColumnTransformer(transformers=[('one hot',\n",
       "                                                  OneHotEncoder(handle_unknown='ignore'),\n",
       "                                                  ['day_week', 'month']),\n",
       "                                                 ('scaler',\n",
       "                                                  QuantileTransformer(),\n",
       "                                                  ['Spesa Facebook', 'google',\n",
       "                                                   'Organico']),\n",
       "                                                 ('normalizer', Normalizer(),\n",
       "                                                  ['day_week', 'month',\n",
       "                                                   'Spesa Facebook', 'google',\n",
       "                                                   'Organico'])])),\n",
       "                ('model', MLPRegressor())])</pre></div></div></div><div class=\"sk-serial\"><div class=\"sk-item sk-dashed-wrapped\"><div class=\"sk-label-container\"><div class=\"sk-label sk-toggleable\"><input class=\"sk-toggleable__control sk-hidden--visually\" id=\"d086edb1-a204-4134-a8ac-8d31d2abfd9d\" type=\"checkbox\" ><label class=\"sk-toggleable__label\" for=\"d086edb1-a204-4134-a8ac-8d31d2abfd9d\">column_transformer: ColumnTransformer</label><div class=\"sk-toggleable__content\"><pre>ColumnTransformer(transformers=[('one hot',\n",
       "                                 OneHotEncoder(handle_unknown='ignore'),\n",
       "                                 ['day_week', 'month']),\n",
       "                                ('scaler', QuantileTransformer(),\n",
       "                                 ['Spesa Facebook', 'google', 'Organico']),\n",
       "                                ('normalizer', Normalizer(),\n",
       "                                 ['day_week', 'month', 'Spesa Facebook',\n",
       "                                  'google', 'Organico'])])</pre></div></div></div><div class=\"sk-parallel\"><div class=\"sk-parallel-item\"><div class=\"sk-item\"><div class=\"sk-label-container\"><div class=\"sk-label sk-toggleable\"><input class=\"sk-toggleable__control sk-hidden--visually\" id=\"28348a17-6480-4cf1-aa9b-3a8f15bdf4bc\" type=\"checkbox\" ><label class=\"sk-toggleable__label\" for=\"28348a17-6480-4cf1-aa9b-3a8f15bdf4bc\">one hot</label><div class=\"sk-toggleable__content\"><pre>['day_week', 'month']</pre></div></div></div><div class=\"sk-serial\"><div class=\"sk-item\"><div class=\"sk-estimator sk-toggleable\"><input class=\"sk-toggleable__control sk-hidden--visually\" id=\"203f71d9-2cc0-4729-92f8-0a3c477b3360\" type=\"checkbox\" ><label class=\"sk-toggleable__label\" for=\"203f71d9-2cc0-4729-92f8-0a3c477b3360\">OneHotEncoder</label><div class=\"sk-toggleable__content\"><pre>OneHotEncoder(handle_unknown='ignore')</pre></div></div></div></div></div></div><div class=\"sk-parallel-item\"><div class=\"sk-item\"><div class=\"sk-label-container\"><div class=\"sk-label sk-toggleable\"><input class=\"sk-toggleable__control sk-hidden--visually\" id=\"0839e106-284d-465d-a6dc-583bd880a1ce\" type=\"checkbox\" ><label class=\"sk-toggleable__label\" for=\"0839e106-284d-465d-a6dc-583bd880a1ce\">scaler</label><div class=\"sk-toggleable__content\"><pre>['Spesa Facebook', 'google', 'Organico']</pre></div></div></div><div class=\"sk-serial\"><div class=\"sk-item\"><div class=\"sk-estimator sk-toggleable\"><input class=\"sk-toggleable__control sk-hidden--visually\" id=\"ff6c11f1-6d84-4062-9e78-d3c3bdc73ae8\" type=\"checkbox\" ><label class=\"sk-toggleable__label\" for=\"ff6c11f1-6d84-4062-9e78-d3c3bdc73ae8\">QuantileTransformer</label><div class=\"sk-toggleable__content\"><pre>QuantileTransformer()</pre></div></div></div></div></div></div><div class=\"sk-parallel-item\"><div class=\"sk-item\"><div class=\"sk-label-container\"><div class=\"sk-label sk-toggleable\"><input class=\"sk-toggleable__control sk-hidden--visually\" id=\"f59d9272-7ce8-4485-8d74-4acce5e10875\" type=\"checkbox\" ><label class=\"sk-toggleable__label\" for=\"f59d9272-7ce8-4485-8d74-4acce5e10875\">normalizer</label><div class=\"sk-toggleable__content\"><pre>['day_week', 'month', 'Spesa Facebook', 'google', 'Organico']</pre></div></div></div><div class=\"sk-serial\"><div class=\"sk-item\"><div class=\"sk-estimator sk-toggleable\"><input class=\"sk-toggleable__control sk-hidden--visually\" id=\"d00a6a79-64fd-4f53-b625-71555dccc13e\" type=\"checkbox\" ><label class=\"sk-toggleable__label\" for=\"d00a6a79-64fd-4f53-b625-71555dccc13e\">Normalizer</label><div class=\"sk-toggleable__content\"><pre>Normalizer()</pre></div></div></div></div></div></div></div></div><div class=\"sk-item\"><div class=\"sk-estimator sk-toggleable\"><input class=\"sk-toggleable__control sk-hidden--visually\" id=\"487d34ce-bb75-4983-8c0d-2cbe454785fe\" type=\"checkbox\" ><label class=\"sk-toggleable__label\" for=\"487d34ce-bb75-4983-8c0d-2cbe454785fe\">MLPRegressor</label><div class=\"sk-toggleable__content\"><pre>MLPRegressor()</pre></div></div></div></div></div></div></div>"
      ],
      "text/plain": [
       "Pipeline(steps=[('column_transformer',\n",
       "                 ColumnTransformer(transformers=[('one hot',\n",
       "                                                  OneHotEncoder(handle_unknown='ignore'),\n",
       "                                                  ['day_week', 'month']),\n",
       "                                                 ('scaler',\n",
       "                                                  QuantileTransformer(),\n",
       "                                                  ['Spesa Facebook', 'google',\n",
       "                                                   'Organico']),\n",
       "                                                 ('normalizer', Normalizer(),\n",
       "                                                  ['day_week', 'month',\n",
       "                                                   'Spesa Facebook', 'google',\n",
       "                                                   'Organico'])])),\n",
       "                ('model', MLPRegressor())])"
      ]
     },
     "execution_count": 30,
     "metadata": {},
     "output_type": "execute_result"
    }
   ],
   "source": [
    "categorical= [\n",
    "  'day_week', 'month'\n",
    "]\n",
    "\n",
    "numerical=[\n",
    "    'Spesa Facebook','google','Organico'\n",
    "]\n",
    "\n",
    "all_features = categorical + numerical\n",
    "\n",
    "transformers =[\n",
    "  ('one hot', OneHotEncoder(handle_unknown='ignore'),categorical),\n",
    "  ('scaler', QuantileTransformer(), numerical),\n",
    "  ('normalizer',Normalizer(), all_features)\n",
    "]\n",
    "\n",
    "\n",
    "ct = ColumnTransformer(transformers)\n",
    "\n",
    "\n",
    "steps =[\n",
    " ('column_transformer',ct),\n",
    " ('model', MLPRegressor())\n",
    "]\n",
    "\n",
    "pipeline= Pipeline(steps)\n",
    "\n",
    "pipeline\n",
    "    "
   ]
  },
  {
   "cell_type": "code",
   "execution_count": 31,
   "metadata": {},
   "outputs": [
    {
     "data": {
      "text/html": [
       "<style>div.sk-top-container {color: black;background-color: white;}div.sk-toggleable {background-color: white;}label.sk-toggleable__label {cursor: pointer;display: block;width: 100%;margin-bottom: 0;padding: 0.2em 0.3em;box-sizing: border-box;text-align: center;}div.sk-toggleable__content {max-height: 0;max-width: 0;overflow: hidden;text-align: left;background-color: #f0f8ff;}div.sk-toggleable__content pre {margin: 0.2em;color: black;border-radius: 0.25em;background-color: #f0f8ff;}input.sk-toggleable__control:checked~div.sk-toggleable__content {max-height: 200px;max-width: 100%;overflow: auto;}div.sk-estimator input.sk-toggleable__control:checked~label.sk-toggleable__label {background-color: #d4ebff;}div.sk-label input.sk-toggleable__control:checked~label.sk-toggleable__label {background-color: #d4ebff;}input.sk-hidden--visually {border: 0;clip: rect(1px 1px 1px 1px);clip: rect(1px, 1px, 1px, 1px);height: 1px;margin: -1px;overflow: hidden;padding: 0;position: absolute;width: 1px;}div.sk-estimator {font-family: monospace;background-color: #f0f8ff;margin: 0.25em 0.25em;border: 1px dotted black;border-radius: 0.25em;box-sizing: border-box;}div.sk-estimator:hover {background-color: #d4ebff;}div.sk-parallel-item::after {content: \"\";width: 100%;border-bottom: 1px solid gray;flex-grow: 1;}div.sk-label:hover label.sk-toggleable__label {background-color: #d4ebff;}div.sk-serial::before {content: \"\";position: absolute;border-left: 1px solid gray;box-sizing: border-box;top: 2em;bottom: 0;left: 50%;}div.sk-serial {display: flex;flex-direction: column;align-items: center;background-color: white;}div.sk-item {z-index: 1;}div.sk-parallel {display: flex;align-items: stretch;justify-content: center;background-color: white;}div.sk-parallel-item {display: flex;flex-direction: column;position: relative;background-color: white;}div.sk-parallel-item:first-child::after {align-self: flex-end;width: 50%;}div.sk-parallel-item:last-child::after {align-self: flex-start;width: 50%;}div.sk-parallel-item:only-child::after {width: 0;}div.sk-dashed-wrapped {border: 1px dashed gray;margin: 0.2em;box-sizing: border-box;padding-bottom: 0.1em;background-color: white;position: relative;}div.sk-label label {font-family: monospace;font-weight: bold;background-color: white;display: inline-block;line-height: 1.2em;}div.sk-label-container {position: relative;z-index: 2;text-align: center;}div.sk-container {display: inline-block;position: relative;}</style><div class=\"sk-top-container\"><div class=\"sk-container\"><div class=\"sk-item sk-dashed-wrapped\"><div class=\"sk-label-container\"><div class=\"sk-label sk-toggleable\"><input class=\"sk-toggleable__control sk-hidden--visually\" id=\"454825b8-d03c-4733-90b2-ef410cf71831\" type=\"checkbox\" ><label class=\"sk-toggleable__label\" for=\"454825b8-d03c-4733-90b2-ef410cf71831\">GridSearchCV</label><div class=\"sk-toggleable__content\"><pre>GridSearchCV(cv=3,\n",
       "             estimator=Pipeline(steps=[('column_transformer',\n",
       "                                        ColumnTransformer(transformers=[('one '\n",
       "                                                                         'hot',\n",
       "                                                                         OneHotEncoder(handle_unknown='ignore'),\n",
       "                                                                         ['day_week',\n",
       "                                                                          'month']),\n",
       "                                                                        ('scaler',\n",
       "                                                                         QuantileTransformer(),\n",
       "                                                                         ['Spesa '\n",
       "                                                                          'Facebook',\n",
       "                                                                          'google',\n",
       "                                                                          'Organico']),\n",
       "                                                                        ('normalizer',\n",
       "                                                                         Normalizer(),\n",
       "                                                                         ['day_week',\n",
       "                                                                          'month',\n",
       "                                                                          'Spesa '\n",
       "                                                                          'Facebook',\n",
       "                                                                          'google',\n",
       "                                                                          'Organico'])])),\n",
       "                                       ('model', MLPRegressor())]),\n",
       "             param_grid={'column_transformer__normalizer': [Normalizer(),\n",
       "                                                            'passthrough'],\n",
       "                         'column_transformer__scaler__n_quantiles': [10, 100],\n",
       "                         'model__alpha': [0.01, 0.001],\n",
       "                         'model__hidden_layer_sizes': [(20, 20), (50, 50)]},\n",
       "             verbose=2)</pre></div></div></div><div class=\"sk-parallel\"><div class=\"sk-parallel-item\"><div class=\"sk-item\"><div class=\"sk-serial\"><div class=\"sk-item\"><div class=\"sk-serial\"><div class=\"sk-item sk-dashed-wrapped\"><div class=\"sk-label-container\"><div class=\"sk-label sk-toggleable\"><input class=\"sk-toggleable__control sk-hidden--visually\" id=\"1e431cc4-2153-4c35-81f9-c98152eee73f\" type=\"checkbox\" ><label class=\"sk-toggleable__label\" for=\"1e431cc4-2153-4c35-81f9-c98152eee73f\">column_transformer: ColumnTransformer</label><div class=\"sk-toggleable__content\"><pre>ColumnTransformer(transformers=[('one hot',\n",
       "                                 OneHotEncoder(handle_unknown='ignore'),\n",
       "                                 ['day_week', 'month']),\n",
       "                                ('scaler', QuantileTransformer(),\n",
       "                                 ['Spesa Facebook', 'google', 'Organico']),\n",
       "                                ('normalizer', Normalizer(),\n",
       "                                 ['day_week', 'month', 'Spesa Facebook',\n",
       "                                  'google', 'Organico'])])</pre></div></div></div><div class=\"sk-parallel\"><div class=\"sk-parallel-item\"><div class=\"sk-item\"><div class=\"sk-label-container\"><div class=\"sk-label sk-toggleable\"><input class=\"sk-toggleable__control sk-hidden--visually\" id=\"caf76f39-7481-420f-a818-9f580b60e72f\" type=\"checkbox\" ><label class=\"sk-toggleable__label\" for=\"caf76f39-7481-420f-a818-9f580b60e72f\">one hot</label><div class=\"sk-toggleable__content\"><pre>['day_week', 'month']</pre></div></div></div><div class=\"sk-serial\"><div class=\"sk-item\"><div class=\"sk-estimator sk-toggleable\"><input class=\"sk-toggleable__control sk-hidden--visually\" id=\"43d65f71-3eea-4625-aede-38595428f468\" type=\"checkbox\" ><label class=\"sk-toggleable__label\" for=\"43d65f71-3eea-4625-aede-38595428f468\">OneHotEncoder</label><div class=\"sk-toggleable__content\"><pre>OneHotEncoder(handle_unknown='ignore')</pre></div></div></div></div></div></div><div class=\"sk-parallel-item\"><div class=\"sk-item\"><div class=\"sk-label-container\"><div class=\"sk-label sk-toggleable\"><input class=\"sk-toggleable__control sk-hidden--visually\" id=\"b48a77f2-1412-4557-a648-24268d640c04\" type=\"checkbox\" ><label class=\"sk-toggleable__label\" for=\"b48a77f2-1412-4557-a648-24268d640c04\">scaler</label><div class=\"sk-toggleable__content\"><pre>['Spesa Facebook', 'google', 'Organico']</pre></div></div></div><div class=\"sk-serial\"><div class=\"sk-item\"><div class=\"sk-estimator sk-toggleable\"><input class=\"sk-toggleable__control sk-hidden--visually\" id=\"4beb0c21-dd87-48cc-b7e1-b459de5b686b\" type=\"checkbox\" ><label class=\"sk-toggleable__label\" for=\"4beb0c21-dd87-48cc-b7e1-b459de5b686b\">QuantileTransformer</label><div class=\"sk-toggleable__content\"><pre>QuantileTransformer()</pre></div></div></div></div></div></div><div class=\"sk-parallel-item\"><div class=\"sk-item\"><div class=\"sk-label-container\"><div class=\"sk-label sk-toggleable\"><input class=\"sk-toggleable__control sk-hidden--visually\" id=\"d29bbb3f-a54e-446d-9457-7dbd825ccf64\" type=\"checkbox\" ><label class=\"sk-toggleable__label\" for=\"d29bbb3f-a54e-446d-9457-7dbd825ccf64\">normalizer</label><div class=\"sk-toggleable__content\"><pre>['day_week', 'month', 'Spesa Facebook', 'google', 'Organico']</pre></div></div></div><div class=\"sk-serial\"><div class=\"sk-item\"><div class=\"sk-estimator sk-toggleable\"><input class=\"sk-toggleable__control sk-hidden--visually\" id=\"f4a20de1-027f-465d-b0e9-9454db86f66e\" type=\"checkbox\" ><label class=\"sk-toggleable__label\" for=\"f4a20de1-027f-465d-b0e9-9454db86f66e\">Normalizer</label><div class=\"sk-toggleable__content\"><pre>Normalizer()</pre></div></div></div></div></div></div></div></div><div class=\"sk-item\"><div class=\"sk-estimator sk-toggleable\"><input class=\"sk-toggleable__control sk-hidden--visually\" id=\"a844dcaf-9e2f-4952-8839-186c6e777392\" type=\"checkbox\" ><label class=\"sk-toggleable__label\" for=\"a844dcaf-9e2f-4952-8839-186c6e777392\">MLPRegressor</label><div class=\"sk-toggleable__content\"><pre>MLPRegressor()</pre></div></div></div></div></div></div></div></div></div></div></div></div>"
      ],
      "text/plain": [
       "GridSearchCV(cv=3,\n",
       "             estimator=Pipeline(steps=[('column_transformer',\n",
       "                                        ColumnTransformer(transformers=[('one '\n",
       "                                                                         'hot',\n",
       "                                                                         OneHotEncoder(handle_unknown='ignore'),\n",
       "                                                                         ['day_week',\n",
       "                                                                          'month']),\n",
       "                                                                        ('scaler',\n",
       "                                                                         QuantileTransformer(),\n",
       "                                                                         ['Spesa '\n",
       "                                                                          'Facebook',\n",
       "                                                                          'google',\n",
       "                                                                          'Organico']),\n",
       "                                                                        ('normalizer',\n",
       "                                                                         Normalizer(),\n",
       "                                                                         ['day_week',\n",
       "                                                                          'month',\n",
       "                                                                          'Spesa '\n",
       "                                                                          'Facebook',\n",
       "                                                                          'google',\n",
       "                                                                          'Organico'])])),\n",
       "                                       ('model', MLPRegressor())]),\n",
       "             param_grid={'column_transformer__normalizer': [Normalizer(),\n",
       "                                                            'passthrough'],\n",
       "                         'column_transformer__scaler__n_quantiles': [10, 100],\n",
       "                         'model__alpha': [0.01, 0.001],\n",
       "                         'model__hidden_layer_sizes': [(20, 20), (50, 50)]},\n",
       "             verbose=2)"
      ]
     },
     "execution_count": 31,
     "metadata": {},
     "output_type": "execute_result"
    }
   ],
   "source": [
    "param_space={\n",
    "    'column_transformer__scaler__n_quantiles':[10,100],\n",
    "    'column_transformer__normalizer':[ Normalizer(), 'passthrough' ],\n",
    "    'model__hidden_layer_sizes':[(20,20),(50,50)],\n",
    "    'model__alpha':[0.01, 0.001]\n",
    "}\n",
    "\n",
    "grid = GridSearchCV(pipeline, param_grid=param_space, cv=3, verbose=2)\n",
    "grid"
   ]
  },
  {
   "cell_type": "code",
   "execution_count": 32,
   "metadata": {},
   "outputs": [],
   "source": [
    "X = df[all_features]\n",
    "y= df['Transazioni']"
   ]
  },
  {
   "cell_type": "code",
   "execution_count": 33,
   "metadata": {},
   "outputs": [],
   "source": [
    "X_train, X_test,y_train, y_test = train_test_split(X,y )"
   ]
  },
  {
   "cell_type": "code",
   "execution_count": 34,
   "metadata": {},
   "outputs": [
    {
     "name": "stdout",
     "output_type": "stream",
     "text": [
      "Fitting 3 folds for each of 16 candidates, totalling 48 fits\n",
      "[CV] column_transformer__normalizer=Normalizer(), column_transformer__scaler__n_quantiles=10, model__alpha=0.01, model__hidden_layer_sizes=(20, 20) \n"
     ]
    },
    {
     "name": "stderr",
     "output_type": "stream",
     "text": [
      "[Parallel(n_jobs=1)]: Using backend SequentialBackend with 1 concurrent workers.\n",
      "/Users/gabriele/opt/anaconda3/lib/python3.8/site-packages/sklearn/neural_network/_multilayer_perceptron.py:582: ConvergenceWarning: Stochastic Optimizer: Maximum iterations (200) reached and the optimization hasn't converged yet.\n",
      "  warnings.warn(\n",
      "[Parallel(n_jobs=1)]: Done   1 out of   1 | elapsed:    0.5s remaining:    0.0s\n"
     ]
    },
    {
     "name": "stdout",
     "output_type": "stream",
     "text": [
      "[CV]  column_transformer__normalizer=Normalizer(), column_transformer__scaler__n_quantiles=10, model__alpha=0.01, model__hidden_layer_sizes=(20, 20), total=   0.5s\n",
      "[CV] column_transformer__normalizer=Normalizer(), column_transformer__scaler__n_quantiles=10, model__alpha=0.01, model__hidden_layer_sizes=(20, 20) \n"
     ]
    },
    {
     "name": "stderr",
     "output_type": "stream",
     "text": [
      "/Users/gabriele/opt/anaconda3/lib/python3.8/site-packages/sklearn/neural_network/_multilayer_perceptron.py:582: ConvergenceWarning: Stochastic Optimizer: Maximum iterations (200) reached and the optimization hasn't converged yet.\n",
      "  warnings.warn(\n"
     ]
    },
    {
     "name": "stdout",
     "output_type": "stream",
     "text": [
      "[CV]  column_transformer__normalizer=Normalizer(), column_transformer__scaler__n_quantiles=10, model__alpha=0.01, model__hidden_layer_sizes=(20, 20), total=   0.4s\n",
      "[CV] column_transformer__normalizer=Normalizer(), column_transformer__scaler__n_quantiles=10, model__alpha=0.01, model__hidden_layer_sizes=(20, 20) \n"
     ]
    },
    {
     "name": "stderr",
     "output_type": "stream",
     "text": [
      "/Users/gabriele/opt/anaconda3/lib/python3.8/site-packages/sklearn/neural_network/_multilayer_perceptron.py:582: ConvergenceWarning: Stochastic Optimizer: Maximum iterations (200) reached and the optimization hasn't converged yet.\n",
      "  warnings.warn(\n"
     ]
    },
    {
     "name": "stdout",
     "output_type": "stream",
     "text": [
      "[CV]  column_transformer__normalizer=Normalizer(), column_transformer__scaler__n_quantiles=10, model__alpha=0.01, model__hidden_layer_sizes=(20, 20), total=   0.5s\n",
      "[CV] column_transformer__normalizer=Normalizer(), column_transformer__scaler__n_quantiles=10, model__alpha=0.01, model__hidden_layer_sizes=(50, 50) \n"
     ]
    },
    {
     "name": "stderr",
     "output_type": "stream",
     "text": [
      "/Users/gabriele/opt/anaconda3/lib/python3.8/site-packages/sklearn/neural_network/_multilayer_perceptron.py:582: ConvergenceWarning: Stochastic Optimizer: Maximum iterations (200) reached and the optimization hasn't converged yet.\n",
      "  warnings.warn(\n"
     ]
    },
    {
     "name": "stdout",
     "output_type": "stream",
     "text": [
      "[CV]  column_transformer__normalizer=Normalizer(), column_transformer__scaler__n_quantiles=10, model__alpha=0.01, model__hidden_layer_sizes=(50, 50), total=   0.7s\n",
      "[CV] column_transformer__normalizer=Normalizer(), column_transformer__scaler__n_quantiles=10, model__alpha=0.01, model__hidden_layer_sizes=(50, 50) \n"
     ]
    },
    {
     "name": "stderr",
     "output_type": "stream",
     "text": [
      "/Users/gabriele/opt/anaconda3/lib/python3.8/site-packages/sklearn/neural_network/_multilayer_perceptron.py:582: ConvergenceWarning: Stochastic Optimizer: Maximum iterations (200) reached and the optimization hasn't converged yet.\n",
      "  warnings.warn(\n"
     ]
    },
    {
     "name": "stdout",
     "output_type": "stream",
     "text": [
      "[CV]  column_transformer__normalizer=Normalizer(), column_transformer__scaler__n_quantiles=10, model__alpha=0.01, model__hidden_layer_sizes=(50, 50), total=   0.7s\n",
      "[CV] column_transformer__normalizer=Normalizer(), column_transformer__scaler__n_quantiles=10, model__alpha=0.01, model__hidden_layer_sizes=(50, 50) \n"
     ]
    },
    {
     "name": "stderr",
     "output_type": "stream",
     "text": [
      "/Users/gabriele/opt/anaconda3/lib/python3.8/site-packages/sklearn/neural_network/_multilayer_perceptron.py:582: ConvergenceWarning: Stochastic Optimizer: Maximum iterations (200) reached and the optimization hasn't converged yet.\n",
      "  warnings.warn(\n"
     ]
    },
    {
     "name": "stdout",
     "output_type": "stream",
     "text": [
      "[CV]  column_transformer__normalizer=Normalizer(), column_transformer__scaler__n_quantiles=10, model__alpha=0.01, model__hidden_layer_sizes=(50, 50), total=   0.6s\n",
      "[CV] column_transformer__normalizer=Normalizer(), column_transformer__scaler__n_quantiles=10, model__alpha=0.001, model__hidden_layer_sizes=(20, 20) \n"
     ]
    },
    {
     "name": "stderr",
     "output_type": "stream",
     "text": [
      "/Users/gabriele/opt/anaconda3/lib/python3.8/site-packages/sklearn/neural_network/_multilayer_perceptron.py:582: ConvergenceWarning: Stochastic Optimizer: Maximum iterations (200) reached and the optimization hasn't converged yet.\n",
      "  warnings.warn(\n"
     ]
    },
    {
     "name": "stdout",
     "output_type": "stream",
     "text": [
      "[CV]  column_transformer__normalizer=Normalizer(), column_transformer__scaler__n_quantiles=10, model__alpha=0.001, model__hidden_layer_sizes=(20, 20), total=   0.4s\n",
      "[CV] column_transformer__normalizer=Normalizer(), column_transformer__scaler__n_quantiles=10, model__alpha=0.001, model__hidden_layer_sizes=(20, 20) \n"
     ]
    },
    {
     "name": "stderr",
     "output_type": "stream",
     "text": [
      "/Users/gabriele/opt/anaconda3/lib/python3.8/site-packages/sklearn/neural_network/_multilayer_perceptron.py:582: ConvergenceWarning: Stochastic Optimizer: Maximum iterations (200) reached and the optimization hasn't converged yet.\n",
      "  warnings.warn(\n"
     ]
    },
    {
     "name": "stdout",
     "output_type": "stream",
     "text": [
      "[CV]  column_transformer__normalizer=Normalizer(), column_transformer__scaler__n_quantiles=10, model__alpha=0.001, model__hidden_layer_sizes=(20, 20), total=   0.4s\n",
      "[CV] column_transformer__normalizer=Normalizer(), column_transformer__scaler__n_quantiles=10, model__alpha=0.001, model__hidden_layer_sizes=(20, 20) \n"
     ]
    },
    {
     "name": "stderr",
     "output_type": "stream",
     "text": [
      "/Users/gabriele/opt/anaconda3/lib/python3.8/site-packages/sklearn/neural_network/_multilayer_perceptron.py:582: ConvergenceWarning: Stochastic Optimizer: Maximum iterations (200) reached and the optimization hasn't converged yet.\n",
      "  warnings.warn(\n"
     ]
    },
    {
     "name": "stdout",
     "output_type": "stream",
     "text": [
      "[CV]  column_transformer__normalizer=Normalizer(), column_transformer__scaler__n_quantiles=10, model__alpha=0.001, model__hidden_layer_sizes=(20, 20), total=   0.4s\n",
      "[CV] column_transformer__normalizer=Normalizer(), column_transformer__scaler__n_quantiles=10, model__alpha=0.001, model__hidden_layer_sizes=(50, 50) \n"
     ]
    },
    {
     "name": "stderr",
     "output_type": "stream",
     "text": [
      "/Users/gabriele/opt/anaconda3/lib/python3.8/site-packages/sklearn/neural_network/_multilayer_perceptron.py:582: ConvergenceWarning: Stochastic Optimizer: Maximum iterations (200) reached and the optimization hasn't converged yet.\n",
      "  warnings.warn(\n"
     ]
    },
    {
     "name": "stdout",
     "output_type": "stream",
     "text": [
      "[CV]  column_transformer__normalizer=Normalizer(), column_transformer__scaler__n_quantiles=10, model__alpha=0.001, model__hidden_layer_sizes=(50, 50), total=   0.7s\n",
      "[CV] column_transformer__normalizer=Normalizer(), column_transformer__scaler__n_quantiles=10, model__alpha=0.001, model__hidden_layer_sizes=(50, 50) \n"
     ]
    },
    {
     "name": "stderr",
     "output_type": "stream",
     "text": [
      "/Users/gabriele/opt/anaconda3/lib/python3.8/site-packages/sklearn/neural_network/_multilayer_perceptron.py:582: ConvergenceWarning: Stochastic Optimizer: Maximum iterations (200) reached and the optimization hasn't converged yet.\n",
      "  warnings.warn(\n"
     ]
    },
    {
     "name": "stdout",
     "output_type": "stream",
     "text": [
      "[CV]  column_transformer__normalizer=Normalizer(), column_transformer__scaler__n_quantiles=10, model__alpha=0.001, model__hidden_layer_sizes=(50, 50), total=   0.7s\n",
      "[CV] column_transformer__normalizer=Normalizer(), column_transformer__scaler__n_quantiles=10, model__alpha=0.001, model__hidden_layer_sizes=(50, 50) \n"
     ]
    },
    {
     "name": "stderr",
     "output_type": "stream",
     "text": [
      "/Users/gabriele/opt/anaconda3/lib/python3.8/site-packages/sklearn/neural_network/_multilayer_perceptron.py:582: ConvergenceWarning: Stochastic Optimizer: Maximum iterations (200) reached and the optimization hasn't converged yet.\n",
      "  warnings.warn(\n"
     ]
    },
    {
     "name": "stdout",
     "output_type": "stream",
     "text": [
      "[CV]  column_transformer__normalizer=Normalizer(), column_transformer__scaler__n_quantiles=10, model__alpha=0.001, model__hidden_layer_sizes=(50, 50), total=   0.6s\n",
      "[CV] column_transformer__normalizer=Normalizer(), column_transformer__scaler__n_quantiles=100, model__alpha=0.01, model__hidden_layer_sizes=(20, 20) \n"
     ]
    },
    {
     "name": "stderr",
     "output_type": "stream",
     "text": [
      "/Users/gabriele/opt/anaconda3/lib/python3.8/site-packages/sklearn/neural_network/_multilayer_perceptron.py:582: ConvergenceWarning: Stochastic Optimizer: Maximum iterations (200) reached and the optimization hasn't converged yet.\n",
      "  warnings.warn(\n"
     ]
    },
    {
     "name": "stdout",
     "output_type": "stream",
     "text": [
      "[CV]  column_transformer__normalizer=Normalizer(), column_transformer__scaler__n_quantiles=100, model__alpha=0.01, model__hidden_layer_sizes=(20, 20), total=   0.5s\n",
      "[CV] column_transformer__normalizer=Normalizer(), column_transformer__scaler__n_quantiles=100, model__alpha=0.01, model__hidden_layer_sizes=(20, 20) \n"
     ]
    },
    {
     "name": "stderr",
     "output_type": "stream",
     "text": [
      "/Users/gabriele/opt/anaconda3/lib/python3.8/site-packages/sklearn/neural_network/_multilayer_perceptron.py:582: ConvergenceWarning: Stochastic Optimizer: Maximum iterations (200) reached and the optimization hasn't converged yet.\n",
      "  warnings.warn(\n"
     ]
    },
    {
     "name": "stdout",
     "output_type": "stream",
     "text": [
      "[CV]  column_transformer__normalizer=Normalizer(), column_transformer__scaler__n_quantiles=100, model__alpha=0.01, model__hidden_layer_sizes=(20, 20), total=   0.4s\n",
      "[CV] column_transformer__normalizer=Normalizer(), column_transformer__scaler__n_quantiles=100, model__alpha=0.01, model__hidden_layer_sizes=(20, 20) \n"
     ]
    },
    {
     "name": "stderr",
     "output_type": "stream",
     "text": [
      "/Users/gabriele/opt/anaconda3/lib/python3.8/site-packages/sklearn/neural_network/_multilayer_perceptron.py:582: ConvergenceWarning: Stochastic Optimizer: Maximum iterations (200) reached and the optimization hasn't converged yet.\n",
      "  warnings.warn(\n"
     ]
    },
    {
     "name": "stdout",
     "output_type": "stream",
     "text": [
      "[CV]  column_transformer__normalizer=Normalizer(), column_transformer__scaler__n_quantiles=100, model__alpha=0.01, model__hidden_layer_sizes=(20, 20), total=   0.5s\n",
      "[CV] column_transformer__normalizer=Normalizer(), column_transformer__scaler__n_quantiles=100, model__alpha=0.01, model__hidden_layer_sizes=(50, 50) \n"
     ]
    },
    {
     "name": "stderr",
     "output_type": "stream",
     "text": [
      "/Users/gabriele/opt/anaconda3/lib/python3.8/site-packages/sklearn/neural_network/_multilayer_perceptron.py:582: ConvergenceWarning: Stochastic Optimizer: Maximum iterations (200) reached and the optimization hasn't converged yet.\n",
      "  warnings.warn(\n"
     ]
    },
    {
     "name": "stdout",
     "output_type": "stream",
     "text": [
      "[CV]  column_transformer__normalizer=Normalizer(), column_transformer__scaler__n_quantiles=100, model__alpha=0.01, model__hidden_layer_sizes=(50, 50), total=   0.7s\n",
      "[CV] column_transformer__normalizer=Normalizer(), column_transformer__scaler__n_quantiles=100, model__alpha=0.01, model__hidden_layer_sizes=(50, 50) \n"
     ]
    },
    {
     "name": "stderr",
     "output_type": "stream",
     "text": [
      "/Users/gabriele/opt/anaconda3/lib/python3.8/site-packages/sklearn/neural_network/_multilayer_perceptron.py:582: ConvergenceWarning: Stochastic Optimizer: Maximum iterations (200) reached and the optimization hasn't converged yet.\n",
      "  warnings.warn(\n"
     ]
    },
    {
     "name": "stdout",
     "output_type": "stream",
     "text": [
      "[CV]  column_transformer__normalizer=Normalizer(), column_transformer__scaler__n_quantiles=100, model__alpha=0.01, model__hidden_layer_sizes=(50, 50), total=   0.8s\n",
      "[CV] column_transformer__normalizer=Normalizer(), column_transformer__scaler__n_quantiles=100, model__alpha=0.01, model__hidden_layer_sizes=(50, 50) \n"
     ]
    },
    {
     "name": "stderr",
     "output_type": "stream",
     "text": [
      "/Users/gabriele/opt/anaconda3/lib/python3.8/site-packages/sklearn/neural_network/_multilayer_perceptron.py:582: ConvergenceWarning: Stochastic Optimizer: Maximum iterations (200) reached and the optimization hasn't converged yet.\n",
      "  warnings.warn(\n"
     ]
    },
    {
     "name": "stdout",
     "output_type": "stream",
     "text": [
      "[CV]  column_transformer__normalizer=Normalizer(), column_transformer__scaler__n_quantiles=100, model__alpha=0.01, model__hidden_layer_sizes=(50, 50), total=   0.8s\n",
      "[CV] column_transformer__normalizer=Normalizer(), column_transformer__scaler__n_quantiles=100, model__alpha=0.001, model__hidden_layer_sizes=(20, 20) \n"
     ]
    },
    {
     "name": "stderr",
     "output_type": "stream",
     "text": [
      "/Users/gabriele/opt/anaconda3/lib/python3.8/site-packages/sklearn/neural_network/_multilayer_perceptron.py:582: ConvergenceWarning: Stochastic Optimizer: Maximum iterations (200) reached and the optimization hasn't converged yet.\n",
      "  warnings.warn(\n"
     ]
    },
    {
     "name": "stdout",
     "output_type": "stream",
     "text": [
      "[CV]  column_transformer__normalizer=Normalizer(), column_transformer__scaler__n_quantiles=100, model__alpha=0.001, model__hidden_layer_sizes=(20, 20), total=   0.4s\n",
      "[CV] column_transformer__normalizer=Normalizer(), column_transformer__scaler__n_quantiles=100, model__alpha=0.001, model__hidden_layer_sizes=(20, 20) \n"
     ]
    },
    {
     "name": "stderr",
     "output_type": "stream",
     "text": [
      "/Users/gabriele/opt/anaconda3/lib/python3.8/site-packages/sklearn/neural_network/_multilayer_perceptron.py:582: ConvergenceWarning: Stochastic Optimizer: Maximum iterations (200) reached and the optimization hasn't converged yet.\n",
      "  warnings.warn(\n"
     ]
    },
    {
     "name": "stdout",
     "output_type": "stream",
     "text": [
      "[CV]  column_transformer__normalizer=Normalizer(), column_transformer__scaler__n_quantiles=100, model__alpha=0.001, model__hidden_layer_sizes=(20, 20), total=   0.4s\n",
      "[CV] column_transformer__normalizer=Normalizer(), column_transformer__scaler__n_quantiles=100, model__alpha=0.001, model__hidden_layer_sizes=(20, 20) \n"
     ]
    },
    {
     "name": "stderr",
     "output_type": "stream",
     "text": [
      "/Users/gabriele/opt/anaconda3/lib/python3.8/site-packages/sklearn/neural_network/_multilayer_perceptron.py:582: ConvergenceWarning: Stochastic Optimizer: Maximum iterations (200) reached and the optimization hasn't converged yet.\n",
      "  warnings.warn(\n"
     ]
    },
    {
     "name": "stdout",
     "output_type": "stream",
     "text": [
      "[CV]  column_transformer__normalizer=Normalizer(), column_transformer__scaler__n_quantiles=100, model__alpha=0.001, model__hidden_layer_sizes=(20, 20), total=   0.6s\n",
      "[CV] column_transformer__normalizer=Normalizer(), column_transformer__scaler__n_quantiles=100, model__alpha=0.001, model__hidden_layer_sizes=(50, 50) \n"
     ]
    },
    {
     "name": "stderr",
     "output_type": "stream",
     "text": [
      "/Users/gabriele/opt/anaconda3/lib/python3.8/site-packages/sklearn/neural_network/_multilayer_perceptron.py:582: ConvergenceWarning: Stochastic Optimizer: Maximum iterations (200) reached and the optimization hasn't converged yet.\n",
      "  warnings.warn(\n"
     ]
    },
    {
     "name": "stdout",
     "output_type": "stream",
     "text": [
      "[CV]  column_transformer__normalizer=Normalizer(), column_transformer__scaler__n_quantiles=100, model__alpha=0.001, model__hidden_layer_sizes=(50, 50), total=   0.7s\n",
      "[CV] column_transformer__normalizer=Normalizer(), column_transformer__scaler__n_quantiles=100, model__alpha=0.001, model__hidden_layer_sizes=(50, 50) \n"
     ]
    },
    {
     "name": "stderr",
     "output_type": "stream",
     "text": [
      "/Users/gabriele/opt/anaconda3/lib/python3.8/site-packages/sklearn/neural_network/_multilayer_perceptron.py:582: ConvergenceWarning: Stochastic Optimizer: Maximum iterations (200) reached and the optimization hasn't converged yet.\n",
      "  warnings.warn(\n"
     ]
    },
    {
     "name": "stdout",
     "output_type": "stream",
     "text": [
      "[CV]  column_transformer__normalizer=Normalizer(), column_transformer__scaler__n_quantiles=100, model__alpha=0.001, model__hidden_layer_sizes=(50, 50), total=   0.7s\n",
      "[CV] column_transformer__normalizer=Normalizer(), column_transformer__scaler__n_quantiles=100, model__alpha=0.001, model__hidden_layer_sizes=(50, 50) \n"
     ]
    },
    {
     "name": "stderr",
     "output_type": "stream",
     "text": [
      "/Users/gabriele/opt/anaconda3/lib/python3.8/site-packages/sklearn/neural_network/_multilayer_perceptron.py:582: ConvergenceWarning: Stochastic Optimizer: Maximum iterations (200) reached and the optimization hasn't converged yet.\n",
      "  warnings.warn(\n"
     ]
    },
    {
     "name": "stdout",
     "output_type": "stream",
     "text": [
      "[CV]  column_transformer__normalizer=Normalizer(), column_transformer__scaler__n_quantiles=100, model__alpha=0.001, model__hidden_layer_sizes=(50, 50), total=   0.7s\n",
      "[CV] column_transformer__normalizer=passthrough, column_transformer__scaler__n_quantiles=10, model__alpha=0.01, model__hidden_layer_sizes=(20, 20) \n"
     ]
    },
    {
     "name": "stderr",
     "output_type": "stream",
     "text": [
      "/Users/gabriele/opt/anaconda3/lib/python3.8/site-packages/sklearn/neural_network/_multilayer_perceptron.py:582: ConvergenceWarning: Stochastic Optimizer: Maximum iterations (200) reached and the optimization hasn't converged yet.\n",
      "  warnings.warn(\n"
     ]
    },
    {
     "name": "stdout",
     "output_type": "stream",
     "text": [
      "[CV]  column_transformer__normalizer=passthrough, column_transformer__scaler__n_quantiles=10, model__alpha=0.01, model__hidden_layer_sizes=(20, 20), total=   0.5s\n",
      "[CV] column_transformer__normalizer=passthrough, column_transformer__scaler__n_quantiles=10, model__alpha=0.01, model__hidden_layer_sizes=(20, 20) \n"
     ]
    },
    {
     "name": "stderr",
     "output_type": "stream",
     "text": [
      "/Users/gabriele/opt/anaconda3/lib/python3.8/site-packages/sklearn/neural_network/_multilayer_perceptron.py:582: ConvergenceWarning: Stochastic Optimizer: Maximum iterations (200) reached and the optimization hasn't converged yet.\n",
      "  warnings.warn(\n"
     ]
    },
    {
     "name": "stdout",
     "output_type": "stream",
     "text": [
      "[CV]  column_transformer__normalizer=passthrough, column_transformer__scaler__n_quantiles=10, model__alpha=0.01, model__hidden_layer_sizes=(20, 20), total=   0.5s\n",
      "[CV] column_transformer__normalizer=passthrough, column_transformer__scaler__n_quantiles=10, model__alpha=0.01, model__hidden_layer_sizes=(20, 20) \n"
     ]
    },
    {
     "name": "stderr",
     "output_type": "stream",
     "text": [
      "/Users/gabriele/opt/anaconda3/lib/python3.8/site-packages/sklearn/neural_network/_multilayer_perceptron.py:582: ConvergenceWarning: Stochastic Optimizer: Maximum iterations (200) reached and the optimization hasn't converged yet.\n",
      "  warnings.warn(\n"
     ]
    },
    {
     "name": "stdout",
     "output_type": "stream",
     "text": [
      "[CV]  column_transformer__normalizer=passthrough, column_transformer__scaler__n_quantiles=10, model__alpha=0.01, model__hidden_layer_sizes=(20, 20), total=   0.6s\n",
      "[CV] column_transformer__normalizer=passthrough, column_transformer__scaler__n_quantiles=10, model__alpha=0.01, model__hidden_layer_sizes=(50, 50) \n"
     ]
    },
    {
     "name": "stderr",
     "output_type": "stream",
     "text": [
      "/Users/gabriele/opt/anaconda3/lib/python3.8/site-packages/sklearn/neural_network/_multilayer_perceptron.py:582: ConvergenceWarning: Stochastic Optimizer: Maximum iterations (200) reached and the optimization hasn't converged yet.\n",
      "  warnings.warn(\n"
     ]
    },
    {
     "name": "stdout",
     "output_type": "stream",
     "text": [
      "[CV]  column_transformer__normalizer=passthrough, column_transformer__scaler__n_quantiles=10, model__alpha=0.01, model__hidden_layer_sizes=(50, 50), total=   0.8s\n",
      "[CV] column_transformer__normalizer=passthrough, column_transformer__scaler__n_quantiles=10, model__alpha=0.01, model__hidden_layer_sizes=(50, 50) \n"
     ]
    },
    {
     "name": "stderr",
     "output_type": "stream",
     "text": [
      "/Users/gabriele/opt/anaconda3/lib/python3.8/site-packages/sklearn/neural_network/_multilayer_perceptron.py:582: ConvergenceWarning: Stochastic Optimizer: Maximum iterations (200) reached and the optimization hasn't converged yet.\n",
      "  warnings.warn(\n"
     ]
    },
    {
     "name": "stdout",
     "output_type": "stream",
     "text": [
      "[CV]  column_transformer__normalizer=passthrough, column_transformer__scaler__n_quantiles=10, model__alpha=0.01, model__hidden_layer_sizes=(50, 50), total=   0.9s\n",
      "[CV] column_transformer__normalizer=passthrough, column_transformer__scaler__n_quantiles=10, model__alpha=0.01, model__hidden_layer_sizes=(50, 50) \n"
     ]
    },
    {
     "name": "stderr",
     "output_type": "stream",
     "text": [
      "/Users/gabriele/opt/anaconda3/lib/python3.8/site-packages/sklearn/neural_network/_multilayer_perceptron.py:582: ConvergenceWarning: Stochastic Optimizer: Maximum iterations (200) reached and the optimization hasn't converged yet.\n",
      "  warnings.warn(\n"
     ]
    },
    {
     "name": "stdout",
     "output_type": "stream",
     "text": [
      "[CV]  column_transformer__normalizer=passthrough, column_transformer__scaler__n_quantiles=10, model__alpha=0.01, model__hidden_layer_sizes=(50, 50), total=   0.9s\n",
      "[CV] column_transformer__normalizer=passthrough, column_transformer__scaler__n_quantiles=10, model__alpha=0.001, model__hidden_layer_sizes=(20, 20) \n"
     ]
    },
    {
     "name": "stderr",
     "output_type": "stream",
     "text": [
      "/Users/gabriele/opt/anaconda3/lib/python3.8/site-packages/sklearn/neural_network/_multilayer_perceptron.py:582: ConvergenceWarning: Stochastic Optimizer: Maximum iterations (200) reached and the optimization hasn't converged yet.\n",
      "  warnings.warn(\n"
     ]
    },
    {
     "name": "stdout",
     "output_type": "stream",
     "text": [
      "[CV]  column_transformer__normalizer=passthrough, column_transformer__scaler__n_quantiles=10, model__alpha=0.001, model__hidden_layer_sizes=(20, 20), total=   0.6s\n",
      "[CV] column_transformer__normalizer=passthrough, column_transformer__scaler__n_quantiles=10, model__alpha=0.001, model__hidden_layer_sizes=(20, 20) \n"
     ]
    },
    {
     "name": "stderr",
     "output_type": "stream",
     "text": [
      "/Users/gabriele/opt/anaconda3/lib/python3.8/site-packages/sklearn/neural_network/_multilayer_perceptron.py:582: ConvergenceWarning: Stochastic Optimizer: Maximum iterations (200) reached and the optimization hasn't converged yet.\n",
      "  warnings.warn(\n"
     ]
    },
    {
     "name": "stdout",
     "output_type": "stream",
     "text": [
      "[CV]  column_transformer__normalizer=passthrough, column_transformer__scaler__n_quantiles=10, model__alpha=0.001, model__hidden_layer_sizes=(20, 20), total=   0.6s\n",
      "[CV] column_transformer__normalizer=passthrough, column_transformer__scaler__n_quantiles=10, model__alpha=0.001, model__hidden_layer_sizes=(20, 20) \n"
     ]
    },
    {
     "name": "stderr",
     "output_type": "stream",
     "text": [
      "/Users/gabriele/opt/anaconda3/lib/python3.8/site-packages/sklearn/neural_network/_multilayer_perceptron.py:582: ConvergenceWarning: Stochastic Optimizer: Maximum iterations (200) reached and the optimization hasn't converged yet.\n",
      "  warnings.warn(\n"
     ]
    },
    {
     "name": "stdout",
     "output_type": "stream",
     "text": [
      "[CV]  column_transformer__normalizer=passthrough, column_transformer__scaler__n_quantiles=10, model__alpha=0.001, model__hidden_layer_sizes=(20, 20), total=   0.7s\n",
      "[CV] column_transformer__normalizer=passthrough, column_transformer__scaler__n_quantiles=10, model__alpha=0.001, model__hidden_layer_sizes=(50, 50) \n",
      "[CV]  column_transformer__normalizer=passthrough, column_transformer__scaler__n_quantiles=10, model__alpha=0.001, model__hidden_layer_sizes=(50, 50), total=   0.8s\n",
      "[CV] column_transformer__normalizer=passthrough, column_transformer__scaler__n_quantiles=10, model__alpha=0.001, model__hidden_layer_sizes=(50, 50) \n"
     ]
    },
    {
     "name": "stderr",
     "output_type": "stream",
     "text": [
      "/Users/gabriele/opt/anaconda3/lib/python3.8/site-packages/sklearn/neural_network/_multilayer_perceptron.py:582: ConvergenceWarning: Stochastic Optimizer: Maximum iterations (200) reached and the optimization hasn't converged yet.\n",
      "  warnings.warn(\n"
     ]
    },
    {
     "name": "stdout",
     "output_type": "stream",
     "text": [
      "[CV]  column_transformer__normalizer=passthrough, column_transformer__scaler__n_quantiles=10, model__alpha=0.001, model__hidden_layer_sizes=(50, 50), total=   1.0s\n",
      "[CV] column_transformer__normalizer=passthrough, column_transformer__scaler__n_quantiles=10, model__alpha=0.001, model__hidden_layer_sizes=(50, 50) \n"
     ]
    },
    {
     "name": "stderr",
     "output_type": "stream",
     "text": [
      "/Users/gabriele/opt/anaconda3/lib/python3.8/site-packages/sklearn/neural_network/_multilayer_perceptron.py:582: ConvergenceWarning: Stochastic Optimizer: Maximum iterations (200) reached and the optimization hasn't converged yet.\n",
      "  warnings.warn(\n"
     ]
    },
    {
     "name": "stdout",
     "output_type": "stream",
     "text": [
      "[CV]  column_transformer__normalizer=passthrough, column_transformer__scaler__n_quantiles=10, model__alpha=0.001, model__hidden_layer_sizes=(50, 50), total=   0.9s\n",
      "[CV] column_transformer__normalizer=passthrough, column_transformer__scaler__n_quantiles=100, model__alpha=0.01, model__hidden_layer_sizes=(20, 20) \n"
     ]
    },
    {
     "name": "stderr",
     "output_type": "stream",
     "text": [
      "/Users/gabriele/opt/anaconda3/lib/python3.8/site-packages/sklearn/neural_network/_multilayer_perceptron.py:582: ConvergenceWarning: Stochastic Optimizer: Maximum iterations (200) reached and the optimization hasn't converged yet.\n",
      "  warnings.warn(\n"
     ]
    },
    {
     "name": "stdout",
     "output_type": "stream",
     "text": [
      "[CV]  column_transformer__normalizer=passthrough, column_transformer__scaler__n_quantiles=100, model__alpha=0.01, model__hidden_layer_sizes=(20, 20), total=   0.5s\n",
      "[CV] column_transformer__normalizer=passthrough, column_transformer__scaler__n_quantiles=100, model__alpha=0.01, model__hidden_layer_sizes=(20, 20) \n"
     ]
    },
    {
     "name": "stderr",
     "output_type": "stream",
     "text": [
      "/Users/gabriele/opt/anaconda3/lib/python3.8/site-packages/sklearn/neural_network/_multilayer_perceptron.py:582: ConvergenceWarning: Stochastic Optimizer: Maximum iterations (200) reached and the optimization hasn't converged yet.\n",
      "  warnings.warn(\n"
     ]
    },
    {
     "name": "stdout",
     "output_type": "stream",
     "text": [
      "[CV]  column_transformer__normalizer=passthrough, column_transformer__scaler__n_quantiles=100, model__alpha=0.01, model__hidden_layer_sizes=(20, 20), total=   0.4s\n",
      "[CV] column_transformer__normalizer=passthrough, column_transformer__scaler__n_quantiles=100, model__alpha=0.01, model__hidden_layer_sizes=(20, 20) \n"
     ]
    },
    {
     "name": "stderr",
     "output_type": "stream",
     "text": [
      "/Users/gabriele/opt/anaconda3/lib/python3.8/site-packages/sklearn/neural_network/_multilayer_perceptron.py:582: ConvergenceWarning: Stochastic Optimizer: Maximum iterations (200) reached and the optimization hasn't converged yet.\n",
      "  warnings.warn(\n"
     ]
    },
    {
     "name": "stdout",
     "output_type": "stream",
     "text": [
      "[CV]  column_transformer__normalizer=passthrough, column_transformer__scaler__n_quantiles=100, model__alpha=0.01, model__hidden_layer_sizes=(20, 20), total=   0.5s\n",
      "[CV] column_transformer__normalizer=passthrough, column_transformer__scaler__n_quantiles=100, model__alpha=0.01, model__hidden_layer_sizes=(50, 50) \n"
     ]
    },
    {
     "name": "stderr",
     "output_type": "stream",
     "text": [
      "/Users/gabriele/opt/anaconda3/lib/python3.8/site-packages/sklearn/neural_network/_multilayer_perceptron.py:582: ConvergenceWarning: Stochastic Optimizer: Maximum iterations (200) reached and the optimization hasn't converged yet.\n",
      "  warnings.warn(\n"
     ]
    },
    {
     "name": "stdout",
     "output_type": "stream",
     "text": [
      "[CV]  column_transformer__normalizer=passthrough, column_transformer__scaler__n_quantiles=100, model__alpha=0.01, model__hidden_layer_sizes=(50, 50), total=   0.6s\n",
      "[CV] column_transformer__normalizer=passthrough, column_transformer__scaler__n_quantiles=100, model__alpha=0.01, model__hidden_layer_sizes=(50, 50) \n"
     ]
    },
    {
     "name": "stderr",
     "output_type": "stream",
     "text": [
      "/Users/gabriele/opt/anaconda3/lib/python3.8/site-packages/sklearn/neural_network/_multilayer_perceptron.py:582: ConvergenceWarning: Stochastic Optimizer: Maximum iterations (200) reached and the optimization hasn't converged yet.\n",
      "  warnings.warn(\n"
     ]
    },
    {
     "name": "stdout",
     "output_type": "stream",
     "text": [
      "[CV]  column_transformer__normalizer=passthrough, column_transformer__scaler__n_quantiles=100, model__alpha=0.01, model__hidden_layer_sizes=(50, 50), total=   0.8s\n",
      "[CV] column_transformer__normalizer=passthrough, column_transformer__scaler__n_quantiles=100, model__alpha=0.01, model__hidden_layer_sizes=(50, 50) \n",
      "[CV]  column_transformer__normalizer=passthrough, column_transformer__scaler__n_quantiles=100, model__alpha=0.01, model__hidden_layer_sizes=(50, 50), total=   0.8s\n",
      "[CV] column_transformer__normalizer=passthrough, column_transformer__scaler__n_quantiles=100, model__alpha=0.001, model__hidden_layer_sizes=(20, 20) \n"
     ]
    },
    {
     "name": "stderr",
     "output_type": "stream",
     "text": [
      "/Users/gabriele/opt/anaconda3/lib/python3.8/site-packages/sklearn/neural_network/_multilayer_perceptron.py:582: ConvergenceWarning: Stochastic Optimizer: Maximum iterations (200) reached and the optimization hasn't converged yet.\n",
      "  warnings.warn(\n"
     ]
    },
    {
     "name": "stdout",
     "output_type": "stream",
     "text": [
      "[CV]  column_transformer__normalizer=passthrough, column_transformer__scaler__n_quantiles=100, model__alpha=0.001, model__hidden_layer_sizes=(20, 20), total=   0.6s\n",
      "[CV] column_transformer__normalizer=passthrough, column_transformer__scaler__n_quantiles=100, model__alpha=0.001, model__hidden_layer_sizes=(20, 20) \n"
     ]
    },
    {
     "name": "stderr",
     "output_type": "stream",
     "text": [
      "/Users/gabriele/opt/anaconda3/lib/python3.8/site-packages/sklearn/neural_network/_multilayer_perceptron.py:582: ConvergenceWarning: Stochastic Optimizer: Maximum iterations (200) reached and the optimization hasn't converged yet.\n",
      "  warnings.warn(\n"
     ]
    },
    {
     "name": "stdout",
     "output_type": "stream",
     "text": [
      "[CV]  column_transformer__normalizer=passthrough, column_transformer__scaler__n_quantiles=100, model__alpha=0.001, model__hidden_layer_sizes=(20, 20), total=   0.6s\n",
      "[CV] column_transformer__normalizer=passthrough, column_transformer__scaler__n_quantiles=100, model__alpha=0.001, model__hidden_layer_sizes=(20, 20) \n"
     ]
    },
    {
     "name": "stderr",
     "output_type": "stream",
     "text": [
      "/Users/gabriele/opt/anaconda3/lib/python3.8/site-packages/sklearn/neural_network/_multilayer_perceptron.py:582: ConvergenceWarning: Stochastic Optimizer: Maximum iterations (200) reached and the optimization hasn't converged yet.\n",
      "  warnings.warn(\n"
     ]
    },
    {
     "name": "stdout",
     "output_type": "stream",
     "text": [
      "[CV]  column_transformer__normalizer=passthrough, column_transformer__scaler__n_quantiles=100, model__alpha=0.001, model__hidden_layer_sizes=(20, 20), total=   0.6s\n",
      "[CV] column_transformer__normalizer=passthrough, column_transformer__scaler__n_quantiles=100, model__alpha=0.001, model__hidden_layer_sizes=(50, 50) \n"
     ]
    },
    {
     "name": "stderr",
     "output_type": "stream",
     "text": [
      "/Users/gabriele/opt/anaconda3/lib/python3.8/site-packages/sklearn/neural_network/_multilayer_perceptron.py:582: ConvergenceWarning: Stochastic Optimizer: Maximum iterations (200) reached and the optimization hasn't converged yet.\n",
      "  warnings.warn(\n"
     ]
    },
    {
     "name": "stdout",
     "output_type": "stream",
     "text": [
      "[CV]  column_transformer__normalizer=passthrough, column_transformer__scaler__n_quantiles=100, model__alpha=0.001, model__hidden_layer_sizes=(50, 50), total=   0.9s\n",
      "[CV] column_transformer__normalizer=passthrough, column_transformer__scaler__n_quantiles=100, model__alpha=0.001, model__hidden_layer_sizes=(50, 50) \n"
     ]
    },
    {
     "name": "stderr",
     "output_type": "stream",
     "text": [
      "/Users/gabriele/opt/anaconda3/lib/python3.8/site-packages/sklearn/neural_network/_multilayer_perceptron.py:582: ConvergenceWarning: Stochastic Optimizer: Maximum iterations (200) reached and the optimization hasn't converged yet.\n",
      "  warnings.warn(\n"
     ]
    },
    {
     "name": "stdout",
     "output_type": "stream",
     "text": [
      "[CV]  column_transformer__normalizer=passthrough, column_transformer__scaler__n_quantiles=100, model__alpha=0.001, model__hidden_layer_sizes=(50, 50), total=   0.8s\n",
      "[CV] column_transformer__normalizer=passthrough, column_transformer__scaler__n_quantiles=100, model__alpha=0.001, model__hidden_layer_sizes=(50, 50) \n"
     ]
    },
    {
     "name": "stderr",
     "output_type": "stream",
     "text": [
      "/Users/gabriele/opt/anaconda3/lib/python3.8/site-packages/sklearn/neural_network/_multilayer_perceptron.py:582: ConvergenceWarning: Stochastic Optimizer: Maximum iterations (200) reached and the optimization hasn't converged yet.\n",
      "  warnings.warn(\n",
      "[Parallel(n_jobs=1)]: Done  48 out of  48 | elapsed:   30.2s finished\n"
     ]
    },
    {
     "name": "stdout",
     "output_type": "stream",
     "text": [
      "[CV]  column_transformer__normalizer=passthrough, column_transformer__scaler__n_quantiles=100, model__alpha=0.001, model__hidden_layer_sizes=(50, 50), total=   0.6s\n"
     ]
    },
    {
     "data": {
      "text/html": [
       "<style>div.sk-top-container {color: black;background-color: white;}div.sk-toggleable {background-color: white;}label.sk-toggleable__label {cursor: pointer;display: block;width: 100%;margin-bottom: 0;padding: 0.2em 0.3em;box-sizing: border-box;text-align: center;}div.sk-toggleable__content {max-height: 0;max-width: 0;overflow: hidden;text-align: left;background-color: #f0f8ff;}div.sk-toggleable__content pre {margin: 0.2em;color: black;border-radius: 0.25em;background-color: #f0f8ff;}input.sk-toggleable__control:checked~div.sk-toggleable__content {max-height: 200px;max-width: 100%;overflow: auto;}div.sk-estimator input.sk-toggleable__control:checked~label.sk-toggleable__label {background-color: #d4ebff;}div.sk-label input.sk-toggleable__control:checked~label.sk-toggleable__label {background-color: #d4ebff;}input.sk-hidden--visually {border: 0;clip: rect(1px 1px 1px 1px);clip: rect(1px, 1px, 1px, 1px);height: 1px;margin: -1px;overflow: hidden;padding: 0;position: absolute;width: 1px;}div.sk-estimator {font-family: monospace;background-color: #f0f8ff;margin: 0.25em 0.25em;border: 1px dotted black;border-radius: 0.25em;box-sizing: border-box;}div.sk-estimator:hover {background-color: #d4ebff;}div.sk-parallel-item::after {content: \"\";width: 100%;border-bottom: 1px solid gray;flex-grow: 1;}div.sk-label:hover label.sk-toggleable__label {background-color: #d4ebff;}div.sk-serial::before {content: \"\";position: absolute;border-left: 1px solid gray;box-sizing: border-box;top: 2em;bottom: 0;left: 50%;}div.sk-serial {display: flex;flex-direction: column;align-items: center;background-color: white;}div.sk-item {z-index: 1;}div.sk-parallel {display: flex;align-items: stretch;justify-content: center;background-color: white;}div.sk-parallel-item {display: flex;flex-direction: column;position: relative;background-color: white;}div.sk-parallel-item:first-child::after {align-self: flex-end;width: 50%;}div.sk-parallel-item:last-child::after {align-self: flex-start;width: 50%;}div.sk-parallel-item:only-child::after {width: 0;}div.sk-dashed-wrapped {border: 1px dashed gray;margin: 0.2em;box-sizing: border-box;padding-bottom: 0.1em;background-color: white;position: relative;}div.sk-label label {font-family: monospace;font-weight: bold;background-color: white;display: inline-block;line-height: 1.2em;}div.sk-label-container {position: relative;z-index: 2;text-align: center;}div.sk-container {display: inline-block;position: relative;}</style><div class=\"sk-top-container\"><div class=\"sk-container\"><div class=\"sk-item sk-dashed-wrapped\"><div class=\"sk-label-container\"><div class=\"sk-label sk-toggleable\"><input class=\"sk-toggleable__control sk-hidden--visually\" id=\"d599801c-70e8-4eae-984b-7a4229a9e67a\" type=\"checkbox\" ><label class=\"sk-toggleable__label\" for=\"d599801c-70e8-4eae-984b-7a4229a9e67a\">GridSearchCV</label><div class=\"sk-toggleable__content\"><pre>GridSearchCV(cv=3,\n",
       "             estimator=Pipeline(steps=[('column_transformer',\n",
       "                                        ColumnTransformer(transformers=[('one '\n",
       "                                                                         'hot',\n",
       "                                                                         OneHotEncoder(handle_unknown='ignore'),\n",
       "                                                                         ['day_week',\n",
       "                                                                          'month']),\n",
       "                                                                        ('scaler',\n",
       "                                                                         QuantileTransformer(),\n",
       "                                                                         ['Spesa '\n",
       "                                                                          'Facebook',\n",
       "                                                                          'google',\n",
       "                                                                          'Organico']),\n",
       "                                                                        ('normalizer',\n",
       "                                                                         Normalizer(),\n",
       "                                                                         ['day_week',\n",
       "                                                                          'month',\n",
       "                                                                          'Spesa '\n",
       "                                                                          'Facebook',\n",
       "                                                                          'google',\n",
       "                                                                          'Organico'])])),\n",
       "                                       ('model', MLPRegressor())]),\n",
       "             param_grid={'column_transformer__normalizer': [Normalizer(),\n",
       "                                                            'passthrough'],\n",
       "                         'column_transformer__scaler__n_quantiles': [10, 100],\n",
       "                         'model__alpha': [0.01, 0.001],\n",
       "                         'model__hidden_layer_sizes': [(20, 20), (50, 50)]},\n",
       "             verbose=2)</pre></div></div></div><div class=\"sk-parallel\"><div class=\"sk-parallel-item\"><div class=\"sk-item\"><div class=\"sk-serial\"><div class=\"sk-item\"><div class=\"sk-serial\"><div class=\"sk-item sk-dashed-wrapped\"><div class=\"sk-label-container\"><div class=\"sk-label sk-toggleable\"><input class=\"sk-toggleable__control sk-hidden--visually\" id=\"9c3c3836-e08e-49c1-a22f-131615e2cf9f\" type=\"checkbox\" ><label class=\"sk-toggleable__label\" for=\"9c3c3836-e08e-49c1-a22f-131615e2cf9f\">column_transformer: ColumnTransformer</label><div class=\"sk-toggleable__content\"><pre>ColumnTransformer(transformers=[('one hot',\n",
       "                                 OneHotEncoder(handle_unknown='ignore'),\n",
       "                                 ['day_week', 'month']),\n",
       "                                ('scaler', QuantileTransformer(),\n",
       "                                 ['Spesa Facebook', 'google', 'Organico']),\n",
       "                                ('normalizer', Normalizer(),\n",
       "                                 ['day_week', 'month', 'Spesa Facebook',\n",
       "                                  'google', 'Organico'])])</pre></div></div></div><div class=\"sk-parallel\"><div class=\"sk-parallel-item\"><div class=\"sk-item\"><div class=\"sk-label-container\"><div class=\"sk-label sk-toggleable\"><input class=\"sk-toggleable__control sk-hidden--visually\" id=\"df7d2a28-410b-4b2c-ac38-bf6e3aa20b6f\" type=\"checkbox\" ><label class=\"sk-toggleable__label\" for=\"df7d2a28-410b-4b2c-ac38-bf6e3aa20b6f\">one hot</label><div class=\"sk-toggleable__content\"><pre>['day_week', 'month']</pre></div></div></div><div class=\"sk-serial\"><div class=\"sk-item\"><div class=\"sk-estimator sk-toggleable\"><input class=\"sk-toggleable__control sk-hidden--visually\" id=\"969b26eb-3bf7-4e34-b00a-593c5b822f06\" type=\"checkbox\" ><label class=\"sk-toggleable__label\" for=\"969b26eb-3bf7-4e34-b00a-593c5b822f06\">OneHotEncoder</label><div class=\"sk-toggleable__content\"><pre>OneHotEncoder(handle_unknown='ignore')</pre></div></div></div></div></div></div><div class=\"sk-parallel-item\"><div class=\"sk-item\"><div class=\"sk-label-container\"><div class=\"sk-label sk-toggleable\"><input class=\"sk-toggleable__control sk-hidden--visually\" id=\"2f206b15-a2bb-4f9f-918e-eb8f78b71af2\" type=\"checkbox\" ><label class=\"sk-toggleable__label\" for=\"2f206b15-a2bb-4f9f-918e-eb8f78b71af2\">scaler</label><div class=\"sk-toggleable__content\"><pre>['Spesa Facebook', 'google', 'Organico']</pre></div></div></div><div class=\"sk-serial\"><div class=\"sk-item\"><div class=\"sk-estimator sk-toggleable\"><input class=\"sk-toggleable__control sk-hidden--visually\" id=\"643258ec-f585-42c5-9118-da23ac417928\" type=\"checkbox\" ><label class=\"sk-toggleable__label\" for=\"643258ec-f585-42c5-9118-da23ac417928\">QuantileTransformer</label><div class=\"sk-toggleable__content\"><pre>QuantileTransformer()</pre></div></div></div></div></div></div><div class=\"sk-parallel-item\"><div class=\"sk-item\"><div class=\"sk-label-container\"><div class=\"sk-label sk-toggleable\"><input class=\"sk-toggleable__control sk-hidden--visually\" id=\"5637d766-7c21-4533-861f-d469c596931e\" type=\"checkbox\" ><label class=\"sk-toggleable__label\" for=\"5637d766-7c21-4533-861f-d469c596931e\">normalizer</label><div class=\"sk-toggleable__content\"><pre>['day_week', 'month', 'Spesa Facebook', 'google', 'Organico']</pre></div></div></div><div class=\"sk-serial\"><div class=\"sk-item\"><div class=\"sk-estimator sk-toggleable\"><input class=\"sk-toggleable__control sk-hidden--visually\" id=\"76d8693b-488c-4126-85f2-1dc10ea007a0\" type=\"checkbox\" ><label class=\"sk-toggleable__label\" for=\"76d8693b-488c-4126-85f2-1dc10ea007a0\">Normalizer</label><div class=\"sk-toggleable__content\"><pre>Normalizer()</pre></div></div></div></div></div></div></div></div><div class=\"sk-item\"><div class=\"sk-estimator sk-toggleable\"><input class=\"sk-toggleable__control sk-hidden--visually\" id=\"ea23b6a5-223f-4441-89d5-890d88939a22\" type=\"checkbox\" ><label class=\"sk-toggleable__label\" for=\"ea23b6a5-223f-4441-89d5-890d88939a22\">MLPRegressor</label><div class=\"sk-toggleable__content\"><pre>MLPRegressor()</pre></div></div></div></div></div></div></div></div></div></div></div></div>"
      ],
      "text/plain": [
       "GridSearchCV(cv=3,\n",
       "             estimator=Pipeline(steps=[('column_transformer',\n",
       "                                        ColumnTransformer(transformers=[('one '\n",
       "                                                                         'hot',\n",
       "                                                                         OneHotEncoder(handle_unknown='ignore'),\n",
       "                                                                         ['day_week',\n",
       "                                                                          'month']),\n",
       "                                                                        ('scaler',\n",
       "                                                                         QuantileTransformer(),\n",
       "                                                                         ['Spesa '\n",
       "                                                                          'Facebook',\n",
       "                                                                          'google',\n",
       "                                                                          'Organico']),\n",
       "                                                                        ('normalizer',\n",
       "                                                                         Normalizer(),\n",
       "                                                                         ['day_week',\n",
       "                                                                          'month',\n",
       "                                                                          'Spesa '\n",
       "                                                                          'Facebook',\n",
       "                                                                          'google',\n",
       "                                                                          'Organico'])])),\n",
       "                                       ('model', MLPRegressor())]),\n",
       "             param_grid={'column_transformer__normalizer': [Normalizer(),\n",
       "                                                            'passthrough'],\n",
       "                         'column_transformer__scaler__n_quantiles': [10, 100],\n",
       "                         'model__alpha': [0.01, 0.001],\n",
       "                         'model__hidden_layer_sizes': [(20, 20), (50, 50)]},\n",
       "             verbose=2)"
      ]
     },
     "execution_count": 34,
     "metadata": {},
     "output_type": "execute_result"
    }
   ],
   "source": [
    "grid.fit(X_train, y_train)"
   ]
  },
  {
   "cell_type": "code",
   "execution_count": 35,
   "metadata": {},
   "outputs": [
    {
     "data": {
      "text/plain": [
       "{'column_transformer__normalizer': 'passthrough',\n",
       " 'column_transformer__scaler__n_quantiles': 100,\n",
       " 'model__alpha': 0.01,\n",
       " 'model__hidden_layer_sizes': (50, 50)}"
      ]
     },
     "execution_count": 35,
     "metadata": {},
     "output_type": "execute_result"
    }
   ],
   "source": [
    "grid.best_params_"
   ]
  },
  {
   "cell_type": "code",
   "execution_count": 36,
   "metadata": {},
   "outputs": [
    {
     "data": {
      "text/html": [
       "<style>div.sk-top-container {color: black;background-color: white;}div.sk-toggleable {background-color: white;}label.sk-toggleable__label {cursor: pointer;display: block;width: 100%;margin-bottom: 0;padding: 0.2em 0.3em;box-sizing: border-box;text-align: center;}div.sk-toggleable__content {max-height: 0;max-width: 0;overflow: hidden;text-align: left;background-color: #f0f8ff;}div.sk-toggleable__content pre {margin: 0.2em;color: black;border-radius: 0.25em;background-color: #f0f8ff;}input.sk-toggleable__control:checked~div.sk-toggleable__content {max-height: 200px;max-width: 100%;overflow: auto;}div.sk-estimator input.sk-toggleable__control:checked~label.sk-toggleable__label {background-color: #d4ebff;}div.sk-label input.sk-toggleable__control:checked~label.sk-toggleable__label {background-color: #d4ebff;}input.sk-hidden--visually {border: 0;clip: rect(1px 1px 1px 1px);clip: rect(1px, 1px, 1px, 1px);height: 1px;margin: -1px;overflow: hidden;padding: 0;position: absolute;width: 1px;}div.sk-estimator {font-family: monospace;background-color: #f0f8ff;margin: 0.25em 0.25em;border: 1px dotted black;border-radius: 0.25em;box-sizing: border-box;}div.sk-estimator:hover {background-color: #d4ebff;}div.sk-parallel-item::after {content: \"\";width: 100%;border-bottom: 1px solid gray;flex-grow: 1;}div.sk-label:hover label.sk-toggleable__label {background-color: #d4ebff;}div.sk-serial::before {content: \"\";position: absolute;border-left: 1px solid gray;box-sizing: border-box;top: 2em;bottom: 0;left: 50%;}div.sk-serial {display: flex;flex-direction: column;align-items: center;background-color: white;}div.sk-item {z-index: 1;}div.sk-parallel {display: flex;align-items: stretch;justify-content: center;background-color: white;}div.sk-parallel-item {display: flex;flex-direction: column;position: relative;background-color: white;}div.sk-parallel-item:first-child::after {align-self: flex-end;width: 50%;}div.sk-parallel-item:last-child::after {align-self: flex-start;width: 50%;}div.sk-parallel-item:only-child::after {width: 0;}div.sk-dashed-wrapped {border: 1px dashed gray;margin: 0.2em;box-sizing: border-box;padding-bottom: 0.1em;background-color: white;position: relative;}div.sk-label label {font-family: monospace;font-weight: bold;background-color: white;display: inline-block;line-height: 1.2em;}div.sk-label-container {position: relative;z-index: 2;text-align: center;}div.sk-container {display: inline-block;position: relative;}</style><div class=\"sk-top-container\"><div class=\"sk-container\"><div class=\"sk-item sk-dashed-wrapped\"><div class=\"sk-label-container\"><div class=\"sk-label sk-toggleable\"><input class=\"sk-toggleable__control sk-hidden--visually\" id=\"aa7736b8-8e13-4b3c-ac0c-b6eb833a1a54\" type=\"checkbox\" ><label class=\"sk-toggleable__label\" for=\"aa7736b8-8e13-4b3c-ac0c-b6eb833a1a54\">Pipeline</label><div class=\"sk-toggleable__content\"><pre>Pipeline(steps=[('column_transformer',\n",
       "                 ColumnTransformer(transformers=[('one hot',\n",
       "                                                  OneHotEncoder(handle_unknown='ignore'),\n",
       "                                                  ['day_week', 'month']),\n",
       "                                                 ('scaler',\n",
       "                                                  QuantileTransformer(n_quantiles=100),\n",
       "                                                  ['Spesa Facebook', 'google',\n",
       "                                                   'Organico']),\n",
       "                                                 ('normalizer', 'passthrough',\n",
       "                                                  ['day_week', 'month',\n",
       "                                                   'Spesa Facebook', 'google',\n",
       "                                                   'Organico'])])),\n",
       "                ('model',\n",
       "                 MLPRegressor(alpha=0.01, hidden_layer_sizes=(50, 50)))])</pre></div></div></div><div class=\"sk-serial\"><div class=\"sk-item sk-dashed-wrapped\"><div class=\"sk-label-container\"><div class=\"sk-label sk-toggleable\"><input class=\"sk-toggleable__control sk-hidden--visually\" id=\"317ea004-7c8d-4c1d-ac25-05e5a56dd431\" type=\"checkbox\" ><label class=\"sk-toggleable__label\" for=\"317ea004-7c8d-4c1d-ac25-05e5a56dd431\">column_transformer: ColumnTransformer</label><div class=\"sk-toggleable__content\"><pre>ColumnTransformer(transformers=[('one hot',\n",
       "                                 OneHotEncoder(handle_unknown='ignore'),\n",
       "                                 ['day_week', 'month']),\n",
       "                                ('scaler', QuantileTransformer(n_quantiles=100),\n",
       "                                 ['Spesa Facebook', 'google', 'Organico']),\n",
       "                                ('normalizer', 'passthrough',\n",
       "                                 ['day_week', 'month', 'Spesa Facebook',\n",
       "                                  'google', 'Organico'])])</pre></div></div></div><div class=\"sk-parallel\"><div class=\"sk-parallel-item\"><div class=\"sk-item\"><div class=\"sk-label-container\"><div class=\"sk-label sk-toggleable\"><input class=\"sk-toggleable__control sk-hidden--visually\" id=\"8b388121-645e-4f0e-8c4b-44d5c5e80049\" type=\"checkbox\" ><label class=\"sk-toggleable__label\" for=\"8b388121-645e-4f0e-8c4b-44d5c5e80049\">one hot</label><div class=\"sk-toggleable__content\"><pre>['day_week', 'month']</pre></div></div></div><div class=\"sk-serial\"><div class=\"sk-item\"><div class=\"sk-estimator sk-toggleable\"><input class=\"sk-toggleable__control sk-hidden--visually\" id=\"b3e46d57-a669-4ae4-8dea-85f451d73b8c\" type=\"checkbox\" ><label class=\"sk-toggleable__label\" for=\"b3e46d57-a669-4ae4-8dea-85f451d73b8c\">OneHotEncoder</label><div class=\"sk-toggleable__content\"><pre>OneHotEncoder(handle_unknown='ignore')</pre></div></div></div></div></div></div><div class=\"sk-parallel-item\"><div class=\"sk-item\"><div class=\"sk-label-container\"><div class=\"sk-label sk-toggleable\"><input class=\"sk-toggleable__control sk-hidden--visually\" id=\"c5c2049c-6f92-4bb5-b3d3-586878fa25cc\" type=\"checkbox\" ><label class=\"sk-toggleable__label\" for=\"c5c2049c-6f92-4bb5-b3d3-586878fa25cc\">scaler</label><div class=\"sk-toggleable__content\"><pre>['Spesa Facebook', 'google', 'Organico']</pre></div></div></div><div class=\"sk-serial\"><div class=\"sk-item\"><div class=\"sk-estimator sk-toggleable\"><input class=\"sk-toggleable__control sk-hidden--visually\" id=\"6c49e1a9-f5e4-476b-aed8-e762483ed2eb\" type=\"checkbox\" ><label class=\"sk-toggleable__label\" for=\"6c49e1a9-f5e4-476b-aed8-e762483ed2eb\">QuantileTransformer</label><div class=\"sk-toggleable__content\"><pre>QuantileTransformer(n_quantiles=100)</pre></div></div></div></div></div></div><div class=\"sk-parallel-item\"><div class=\"sk-item\"><div class=\"sk-label-container\"><div class=\"sk-label sk-toggleable\"><input class=\"sk-toggleable__control sk-hidden--visually\" id=\"17967a09-7464-47c7-a05c-7e652c44156f\" type=\"checkbox\" ><label class=\"sk-toggleable__label\" for=\"17967a09-7464-47c7-a05c-7e652c44156f\">normalizer</label><div class=\"sk-toggleable__content\"><pre>['day_week', 'month', 'Spesa Facebook', 'google', 'Organico']</pre></div></div></div><div class=\"sk-serial\"><div class=\"sk-item\"><div class=\"sk-estimator sk-toggleable\"><input class=\"sk-toggleable__control sk-hidden--visually\" id=\"ea05b549-3280-45a6-a825-7a61961ccde1\" type=\"checkbox\" ><label class=\"sk-toggleable__label\" for=\"ea05b549-3280-45a6-a825-7a61961ccde1\">passthrough</label><div class=\"sk-toggleable__content\"><pre>passthrough</pre></div></div></div></div></div></div></div></div><div class=\"sk-item\"><div class=\"sk-estimator sk-toggleable\"><input class=\"sk-toggleable__control sk-hidden--visually\" id=\"f4a5e17c-836f-4b22-93c2-c3dd694889c6\" type=\"checkbox\" ><label class=\"sk-toggleable__label\" for=\"f4a5e17c-836f-4b22-93c2-c3dd694889c6\">MLPRegressor</label><div class=\"sk-toggleable__content\"><pre>MLPRegressor(alpha=0.01, hidden_layer_sizes=(50, 50))</pre></div></div></div></div></div></div></div>"
      ],
      "text/plain": [
       "Pipeline(steps=[('column_transformer',\n",
       "                 ColumnTransformer(transformers=[('one hot',\n",
       "                                                  OneHotEncoder(handle_unknown='ignore'),\n",
       "                                                  ['day_week', 'month']),\n",
       "                                                 ('scaler',\n",
       "                                                  QuantileTransformer(n_quantiles=100),\n",
       "                                                  ['Spesa Facebook', 'google',\n",
       "                                                   'Organico']),\n",
       "                                                 ('normalizer', 'passthrough',\n",
       "                                                  ['day_week', 'month',\n",
       "                                                   'Spesa Facebook', 'google',\n",
       "                                                   'Organico'])])),\n",
       "                ('model',\n",
       "                 MLPRegressor(alpha=0.01, hidden_layer_sizes=(50, 50)))])"
      ]
     },
     "execution_count": 36,
     "metadata": {},
     "output_type": "execute_result"
    }
   ],
   "source": [
    "grid.best_estimator_"
   ]
  },
  {
   "cell_type": "code",
   "execution_count": 37,
   "metadata": {},
   "outputs": [
    {
     "data": {
      "text/plain": [
       "['Rete_Neurale_Bialetti.joblib']"
      ]
     },
     "execution_count": 37,
     "metadata": {},
     "output_type": "execute_result"
    }
   ],
   "source": [
    "dump(grid.best_estimator_, 'Rete_Neurale_Bialetti.joblib')"
   ]
  },
  {
   "cell_type": "code",
   "execution_count": 38,
   "metadata": {},
   "outputs": [
    {
     "data": {
      "text/plain": [
       "0.8810193341794936"
      ]
     },
     "execution_count": 38,
     "metadata": {},
     "output_type": "execute_result"
    }
   ],
   "source": [
    "pipe = load('Rete_Neurale_Bialetti.joblib')\n",
    "     \n",
    "pipe.score(X_test, y_test)"
   ]
  },
  {
   "cell_type": "code",
   "execution_count": 39,
   "metadata": {},
   "outputs": [
    {
     "data": {
      "text/html": [
       "<div>\n",
       "<style scoped>\n",
       "    .dataframe tbody tr th:only-of-type {\n",
       "        vertical-align: middle;\n",
       "    }\n",
       "\n",
       "    .dataframe tbody tr th {\n",
       "        vertical-align: top;\n",
       "    }\n",
       "\n",
       "    .dataframe thead th {\n",
       "        text-align: right;\n",
       "    }\n",
       "</style>\n",
       "<table border=\"1\" class=\"dataframe\">\n",
       "  <thead>\n",
       "    <tr style=\"text-align: right;\">\n",
       "      <th></th>\n",
       "      <th>mean_fit_time</th>\n",
       "      <th>std_fit_time</th>\n",
       "      <th>mean_score_time</th>\n",
       "      <th>std_score_time</th>\n",
       "      <th>param_column_transformer__normalizer</th>\n",
       "      <th>param_column_transformer__scaler__n_quantiles</th>\n",
       "      <th>param_model__alpha</th>\n",
       "      <th>param_model__hidden_layer_sizes</th>\n",
       "      <th>params</th>\n",
       "      <th>split0_test_score</th>\n",
       "      <th>split1_test_score</th>\n",
       "      <th>split2_test_score</th>\n",
       "      <th>mean_test_score</th>\n",
       "      <th>std_test_score</th>\n",
       "      <th>rank_test_score</th>\n",
       "    </tr>\n",
       "  </thead>\n",
       "  <tbody>\n",
       "    <tr>\n",
       "      <th>0</th>\n",
       "      <td>0.437719</td>\n",
       "      <td>0.012877</td>\n",
       "      <td>0.004828</td>\n",
       "      <td>0.000313</td>\n",
       "      <td>Normalizer()</td>\n",
       "      <td>10</td>\n",
       "      <td>0.01</td>\n",
       "      <td>(20, 20)</td>\n",
       "      <td>{'column_transformer__normalizer': Normalizer(...</td>\n",
       "      <td>0.803947</td>\n",
       "      <td>0.869085</td>\n",
       "      <td>0.844354</td>\n",
       "      <td>0.839128</td>\n",
       "      <td>0.026848</td>\n",
       "      <td>13</td>\n",
       "    </tr>\n",
       "    <tr>\n",
       "      <th>1</th>\n",
       "      <td>0.668085</td>\n",
       "      <td>0.042302</td>\n",
       "      <td>0.004481</td>\n",
       "      <td>0.000245</td>\n",
       "      <td>Normalizer()</td>\n",
       "      <td>10</td>\n",
       "      <td>0.01</td>\n",
       "      <td>(50, 50)</td>\n",
       "      <td>{'column_transformer__normalizer': Normalizer(...</td>\n",
       "      <td>0.833354</td>\n",
       "      <td>0.878077</td>\n",
       "      <td>0.875167</td>\n",
       "      <td>0.862199</td>\n",
       "      <td>0.020431</td>\n",
       "      <td>12</td>\n",
       "    </tr>\n",
       "    <tr>\n",
       "      <th>2</th>\n",
       "      <td>0.394240</td>\n",
       "      <td>0.023952</td>\n",
       "      <td>0.004231</td>\n",
       "      <td>0.000088</td>\n",
       "      <td>Normalizer()</td>\n",
       "      <td>10</td>\n",
       "      <td>0.001</td>\n",
       "      <td>(20, 20)</td>\n",
       "      <td>{'column_transformer__normalizer': Normalizer(...</td>\n",
       "      <td>0.781566</td>\n",
       "      <td>0.860367</td>\n",
       "      <td>0.801865</td>\n",
       "      <td>0.814599</td>\n",
       "      <td>0.033407</td>\n",
       "      <td>16</td>\n",
       "    </tr>\n",
       "    <tr>\n",
       "      <th>3</th>\n",
       "      <td>0.690505</td>\n",
       "      <td>0.036265</td>\n",
       "      <td>0.004766</td>\n",
       "      <td>0.000264</td>\n",
       "      <td>Normalizer()</td>\n",
       "      <td>10</td>\n",
       "      <td>0.001</td>\n",
       "      <td>(50, 50)</td>\n",
       "      <td>{'column_transformer__normalizer': Normalizer(...</td>\n",
       "      <td>0.840596</td>\n",
       "      <td>0.879662</td>\n",
       "      <td>0.875105</td>\n",
       "      <td>0.865121</td>\n",
       "      <td>0.017441</td>\n",
       "      <td>11</td>\n",
       "    </tr>\n",
       "    <tr>\n",
       "      <th>4</th>\n",
       "      <td>0.459878</td>\n",
       "      <td>0.048533</td>\n",
       "      <td>0.004391</td>\n",
       "      <td>0.000147</td>\n",
       "      <td>Normalizer()</td>\n",
       "      <td>100</td>\n",
       "      <td>0.01</td>\n",
       "      <td>(20, 20)</td>\n",
       "      <td>{'column_transformer__normalizer': Normalizer(...</td>\n",
       "      <td>0.792464</td>\n",
       "      <td>0.848400</td>\n",
       "      <td>0.849631</td>\n",
       "      <td>0.830165</td>\n",
       "      <td>0.026663</td>\n",
       "      <td>15</td>\n",
       "    </tr>\n",
       "    <tr>\n",
       "      <th>5</th>\n",
       "      <td>0.748819</td>\n",
       "      <td>0.065782</td>\n",
       "      <td>0.007913</td>\n",
       "      <td>0.004081</td>\n",
       "      <td>Normalizer()</td>\n",
       "      <td>100</td>\n",
       "      <td>0.01</td>\n",
       "      <td>(50, 50)</td>\n",
       "      <td>{'column_transformer__normalizer': Normalizer(...</td>\n",
       "      <td>0.849375</td>\n",
       "      <td>0.885522</td>\n",
       "      <td>0.869329</td>\n",
       "      <td>0.868075</td>\n",
       "      <td>0.014784</td>\n",
       "      <td>10</td>\n",
       "    </tr>\n",
       "    <tr>\n",
       "      <th>6</th>\n",
       "      <td>0.461803</td>\n",
       "      <td>0.083309</td>\n",
       "      <td>0.004345</td>\n",
       "      <td>0.000161</td>\n",
       "      <td>Normalizer()</td>\n",
       "      <td>100</td>\n",
       "      <td>0.001</td>\n",
       "      <td>(20, 20)</td>\n",
       "      <td>{'column_transformer__normalizer': Normalizer(...</td>\n",
       "      <td>0.780717</td>\n",
       "      <td>0.881197</td>\n",
       "      <td>0.830068</td>\n",
       "      <td>0.830661</td>\n",
       "      <td>0.041023</td>\n",
       "      <td>14</td>\n",
       "    </tr>\n",
       "    <tr>\n",
       "      <th>7</th>\n",
       "      <td>0.703966</td>\n",
       "      <td>0.035980</td>\n",
       "      <td>0.004669</td>\n",
       "      <td>0.000311</td>\n",
       "      <td>Normalizer()</td>\n",
       "      <td>100</td>\n",
       "      <td>0.001</td>\n",
       "      <td>(50, 50)</td>\n",
       "      <td>{'column_transformer__normalizer': Normalizer(...</td>\n",
       "      <td>0.851135</td>\n",
       "      <td>0.887362</td>\n",
       "      <td>0.878319</td>\n",
       "      <td>0.872272</td>\n",
       "      <td>0.015395</td>\n",
       "      <td>9</td>\n",
       "    </tr>\n",
       "    <tr>\n",
       "      <th>8</th>\n",
       "      <td>0.529280</td>\n",
       "      <td>0.076894</td>\n",
       "      <td>0.003788</td>\n",
       "      <td>0.000491</td>\n",
       "      <td>passthrough</td>\n",
       "      <td>10</td>\n",
       "      <td>0.01</td>\n",
       "      <td>(20, 20)</td>\n",
       "      <td>{'column_transformer__normalizer': 'passthroug...</td>\n",
       "      <td>0.868782</td>\n",
       "      <td>0.901152</td>\n",
       "      <td>0.875743</td>\n",
       "      <td>0.881892</td>\n",
       "      <td>0.013912</td>\n",
       "      <td>6</td>\n",
       "    </tr>\n",
       "    <tr>\n",
       "      <th>9</th>\n",
       "      <td>0.885823</td>\n",
       "      <td>0.054093</td>\n",
       "      <td>0.005176</td>\n",
       "      <td>0.001420</td>\n",
       "      <td>passthrough</td>\n",
       "      <td>10</td>\n",
       "      <td>0.01</td>\n",
       "      <td>(50, 50)</td>\n",
       "      <td>{'column_transformer__normalizer': 'passthroug...</td>\n",
       "      <td>0.876529</td>\n",
       "      <td>0.901270</td>\n",
       "      <td>0.894579</td>\n",
       "      <td>0.890793</td>\n",
       "      <td>0.010449</td>\n",
       "      <td>2</td>\n",
       "    </tr>\n",
       "    <tr>\n",
       "      <th>10</th>\n",
       "      <td>0.635526</td>\n",
       "      <td>0.075334</td>\n",
       "      <td>0.007093</td>\n",
       "      <td>0.000721</td>\n",
       "      <td>passthrough</td>\n",
       "      <td>10</td>\n",
       "      <td>0.001</td>\n",
       "      <td>(20, 20)</td>\n",
       "      <td>{'column_transformer__normalizer': 'passthroug...</td>\n",
       "      <td>0.863515</td>\n",
       "      <td>0.890429</td>\n",
       "      <td>0.884880</td>\n",
       "      <td>0.879608</td>\n",
       "      <td>0.011603</td>\n",
       "      <td>8</td>\n",
       "    </tr>\n",
       "    <tr>\n",
       "      <th>11</th>\n",
       "      <td>0.874468</td>\n",
       "      <td>0.091011</td>\n",
       "      <td>0.004626</td>\n",
       "      <td>0.001407</td>\n",
       "      <td>passthrough</td>\n",
       "      <td>10</td>\n",
       "      <td>0.001</td>\n",
       "      <td>(50, 50)</td>\n",
       "      <td>{'column_transformer__normalizer': 'passthroug...</td>\n",
       "      <td>0.868342</td>\n",
       "      <td>0.904700</td>\n",
       "      <td>0.897021</td>\n",
       "      <td>0.890021</td>\n",
       "      <td>0.015646</td>\n",
       "      <td>3</td>\n",
       "    </tr>\n",
       "    <tr>\n",
       "      <th>12</th>\n",
       "      <td>0.473198</td>\n",
       "      <td>0.049420</td>\n",
       "      <td>0.003664</td>\n",
       "      <td>0.000136</td>\n",
       "      <td>passthrough</td>\n",
       "      <td>100</td>\n",
       "      <td>0.01</td>\n",
       "      <td>(20, 20)</td>\n",
       "      <td>{'column_transformer__normalizer': 'passthroug...</td>\n",
       "      <td>0.862544</td>\n",
       "      <td>0.910257</td>\n",
       "      <td>0.874891</td>\n",
       "      <td>0.882564</td>\n",
       "      <td>0.020221</td>\n",
       "      <td>5</td>\n",
       "    </tr>\n",
       "    <tr>\n",
       "      <th>13</th>\n",
       "      <td>0.706829</td>\n",
       "      <td>0.113720</td>\n",
       "      <td>0.005168</td>\n",
       "      <td>0.001260</td>\n",
       "      <td>passthrough</td>\n",
       "      <td>100</td>\n",
       "      <td>0.01</td>\n",
       "      <td>(50, 50)</td>\n",
       "      <td>{'column_transformer__normalizer': 'passthroug...</td>\n",
       "      <td>0.871394</td>\n",
       "      <td>0.904660</td>\n",
       "      <td>0.901488</td>\n",
       "      <td>0.892514</td>\n",
       "      <td>0.014990</td>\n",
       "      <td>1</td>\n",
       "    </tr>\n",
       "    <tr>\n",
       "      <th>14</th>\n",
       "      <td>0.575154</td>\n",
       "      <td>0.003465</td>\n",
       "      <td>0.005146</td>\n",
       "      <td>0.001821</td>\n",
       "      <td>passthrough</td>\n",
       "      <td>100</td>\n",
       "      <td>0.001</td>\n",
       "      <td>(20, 20)</td>\n",
       "      <td>{'column_transformer__normalizer': 'passthroug...</td>\n",
       "      <td>0.869102</td>\n",
       "      <td>0.895642</td>\n",
       "      <td>0.877047</td>\n",
       "      <td>0.880597</td>\n",
       "      <td>0.011122</td>\n",
       "      <td>7</td>\n",
       "    </tr>\n",
       "    <tr>\n",
       "      <th>15</th>\n",
       "      <td>0.731135</td>\n",
       "      <td>0.129756</td>\n",
       "      <td>0.003767</td>\n",
       "      <td>0.000068</td>\n",
       "      <td>passthrough</td>\n",
       "      <td>100</td>\n",
       "      <td>0.001</td>\n",
       "      <td>(50, 50)</td>\n",
       "      <td>{'column_transformer__normalizer': 'passthroug...</td>\n",
       "      <td>0.870163</td>\n",
       "      <td>0.910489</td>\n",
       "      <td>0.888127</td>\n",
       "      <td>0.889593</td>\n",
       "      <td>0.016496</td>\n",
       "      <td>4</td>\n",
       "    </tr>\n",
       "  </tbody>\n",
       "</table>\n",
       "</div>"
      ],
      "text/plain": [
       "    mean_fit_time  std_fit_time  mean_score_time  std_score_time  \\\n",
       "0        0.437719      0.012877         0.004828        0.000313   \n",
       "1        0.668085      0.042302         0.004481        0.000245   \n",
       "2        0.394240      0.023952         0.004231        0.000088   \n",
       "3        0.690505      0.036265         0.004766        0.000264   \n",
       "4        0.459878      0.048533         0.004391        0.000147   \n",
       "5        0.748819      0.065782         0.007913        0.004081   \n",
       "6        0.461803      0.083309         0.004345        0.000161   \n",
       "7        0.703966      0.035980         0.004669        0.000311   \n",
       "8        0.529280      0.076894         0.003788        0.000491   \n",
       "9        0.885823      0.054093         0.005176        0.001420   \n",
       "10       0.635526      0.075334         0.007093        0.000721   \n",
       "11       0.874468      0.091011         0.004626        0.001407   \n",
       "12       0.473198      0.049420         0.003664        0.000136   \n",
       "13       0.706829      0.113720         0.005168        0.001260   \n",
       "14       0.575154      0.003465         0.005146        0.001821   \n",
       "15       0.731135      0.129756         0.003767        0.000068   \n",
       "\n",
       "   param_column_transformer__normalizer  \\\n",
       "0                          Normalizer()   \n",
       "1                          Normalizer()   \n",
       "2                          Normalizer()   \n",
       "3                          Normalizer()   \n",
       "4                          Normalizer()   \n",
       "5                          Normalizer()   \n",
       "6                          Normalizer()   \n",
       "7                          Normalizer()   \n",
       "8                           passthrough   \n",
       "9                           passthrough   \n",
       "10                          passthrough   \n",
       "11                          passthrough   \n",
       "12                          passthrough   \n",
       "13                          passthrough   \n",
       "14                          passthrough   \n",
       "15                          passthrough   \n",
       "\n",
       "   param_column_transformer__scaler__n_quantiles param_model__alpha  \\\n",
       "0                                             10               0.01   \n",
       "1                                             10               0.01   \n",
       "2                                             10              0.001   \n",
       "3                                             10              0.001   \n",
       "4                                            100               0.01   \n",
       "5                                            100               0.01   \n",
       "6                                            100              0.001   \n",
       "7                                            100              0.001   \n",
       "8                                             10               0.01   \n",
       "9                                             10               0.01   \n",
       "10                                            10              0.001   \n",
       "11                                            10              0.001   \n",
       "12                                           100               0.01   \n",
       "13                                           100               0.01   \n",
       "14                                           100              0.001   \n",
       "15                                           100              0.001   \n",
       "\n",
       "   param_model__hidden_layer_sizes  \\\n",
       "0                         (20, 20)   \n",
       "1                         (50, 50)   \n",
       "2                         (20, 20)   \n",
       "3                         (50, 50)   \n",
       "4                         (20, 20)   \n",
       "5                         (50, 50)   \n",
       "6                         (20, 20)   \n",
       "7                         (50, 50)   \n",
       "8                         (20, 20)   \n",
       "9                         (50, 50)   \n",
       "10                        (20, 20)   \n",
       "11                        (50, 50)   \n",
       "12                        (20, 20)   \n",
       "13                        (50, 50)   \n",
       "14                        (20, 20)   \n",
       "15                        (50, 50)   \n",
       "\n",
       "                                               params  split0_test_score  \\\n",
       "0   {'column_transformer__normalizer': Normalizer(...           0.803947   \n",
       "1   {'column_transformer__normalizer': Normalizer(...           0.833354   \n",
       "2   {'column_transformer__normalizer': Normalizer(...           0.781566   \n",
       "3   {'column_transformer__normalizer': Normalizer(...           0.840596   \n",
       "4   {'column_transformer__normalizer': Normalizer(...           0.792464   \n",
       "5   {'column_transformer__normalizer': Normalizer(...           0.849375   \n",
       "6   {'column_transformer__normalizer': Normalizer(...           0.780717   \n",
       "7   {'column_transformer__normalizer': Normalizer(...           0.851135   \n",
       "8   {'column_transformer__normalizer': 'passthroug...           0.868782   \n",
       "9   {'column_transformer__normalizer': 'passthroug...           0.876529   \n",
       "10  {'column_transformer__normalizer': 'passthroug...           0.863515   \n",
       "11  {'column_transformer__normalizer': 'passthroug...           0.868342   \n",
       "12  {'column_transformer__normalizer': 'passthroug...           0.862544   \n",
       "13  {'column_transformer__normalizer': 'passthroug...           0.871394   \n",
       "14  {'column_transformer__normalizer': 'passthroug...           0.869102   \n",
       "15  {'column_transformer__normalizer': 'passthroug...           0.870163   \n",
       "\n",
       "    split1_test_score  split2_test_score  mean_test_score  std_test_score  \\\n",
       "0            0.869085           0.844354         0.839128        0.026848   \n",
       "1            0.878077           0.875167         0.862199        0.020431   \n",
       "2            0.860367           0.801865         0.814599        0.033407   \n",
       "3            0.879662           0.875105         0.865121        0.017441   \n",
       "4            0.848400           0.849631         0.830165        0.026663   \n",
       "5            0.885522           0.869329         0.868075        0.014784   \n",
       "6            0.881197           0.830068         0.830661        0.041023   \n",
       "7            0.887362           0.878319         0.872272        0.015395   \n",
       "8            0.901152           0.875743         0.881892        0.013912   \n",
       "9            0.901270           0.894579         0.890793        0.010449   \n",
       "10           0.890429           0.884880         0.879608        0.011603   \n",
       "11           0.904700           0.897021         0.890021        0.015646   \n",
       "12           0.910257           0.874891         0.882564        0.020221   \n",
       "13           0.904660           0.901488         0.892514        0.014990   \n",
       "14           0.895642           0.877047         0.880597        0.011122   \n",
       "15           0.910489           0.888127         0.889593        0.016496   \n",
       "\n",
       "    rank_test_score  \n",
       "0                13  \n",
       "1                12  \n",
       "2                16  \n",
       "3                11  \n",
       "4                15  \n",
       "5                10  \n",
       "6                14  \n",
       "7                 9  \n",
       "8                 6  \n",
       "9                 2  \n",
       "10                8  \n",
       "11                3  \n",
       "12                5  \n",
       "13                1  \n",
       "14                7  \n",
       "15                4  "
      ]
     },
     "execution_count": 39,
     "metadata": {},
     "output_type": "execute_result"
    }
   ],
   "source": [
    "results = pd.DataFrame(grid.cv_results_)\n",
    "results"
   ]
  },
  {
   "cell_type": "code",
   "execution_count": 41,
   "metadata": {},
   "outputs": [
    {
     "name": "stderr",
     "output_type": "stream",
     "text": [
      "/Users/gabriele/opt/anaconda3/lib/python3.8/site-packages/sklearn/compose/_column_transformer.py:437: FutureWarning: Given feature/column names or counts do not match the ones for the data given during fit. This will fail from v0.24.\n",
      "  warnings.warn(\"Given feature/column names or counts do not match \"\n"
     ]
    }
   ],
   "source": [
    "prediction = pipe.predict(df)"
   ]
  },
  {
   "cell_type": "code",
   "execution_count": 42,
   "metadata": {},
   "outputs": [
    {
     "data": {
      "text/html": [
       "<div>\n",
       "<style scoped>\n",
       "    .dataframe tbody tr th:only-of-type {\n",
       "        vertical-align: middle;\n",
       "    }\n",
       "\n",
       "    .dataframe tbody tr th {\n",
       "        vertical-align: top;\n",
       "    }\n",
       "\n",
       "    .dataframe thead th {\n",
       "        text-align: right;\n",
       "    }\n",
       "</style>\n",
       "<table border=\"1\" class=\"dataframe\">\n",
       "  <thead>\n",
       "    <tr style=\"text-align: right;\">\n",
       "      <th></th>\n",
       "      <th>Giorno</th>\n",
       "      <th>Transazioni</th>\n",
       "      <th>Spesa Facebook</th>\n",
       "      <th>google</th>\n",
       "      <th>Organico</th>\n",
       "      <th>day_week</th>\n",
       "      <th>month</th>\n",
       "      <th>prediction</th>\n",
       "    </tr>\n",
       "  </thead>\n",
       "  <tbody>\n",
       "    <tr>\n",
       "      <th>566</th>\n",
       "      <td>2020-01-18</td>\n",
       "      <td>2</td>\n",
       "      <td>10.18</td>\n",
       "      <td>0.0</td>\n",
       "      <td>77.0</td>\n",
       "      <td>5</td>\n",
       "      <td>1</td>\n",
       "      <td>0.496949</td>\n",
       "    </tr>\n",
       "    <tr>\n",
       "      <th>805</th>\n",
       "      <td>2020-09-13</td>\n",
       "      <td>13</td>\n",
       "      <td>0.00</td>\n",
       "      <td>0.0</td>\n",
       "      <td>261.0</td>\n",
       "      <td>6</td>\n",
       "      <td>9</td>\n",
       "      <td>12.833042</td>\n",
       "    </tr>\n",
       "    <tr>\n",
       "      <th>767</th>\n",
       "      <td>2020-08-06</td>\n",
       "      <td>19</td>\n",
       "      <td>0.00</td>\n",
       "      <td>0.0</td>\n",
       "      <td>266.0</td>\n",
       "      <td>3</td>\n",
       "      <td>8</td>\n",
       "      <td>14.106570</td>\n",
       "    </tr>\n",
       "    <tr>\n",
       "      <th>899</th>\n",
       "      <td>2020-12-16</td>\n",
       "      <td>35</td>\n",
       "      <td>89.56</td>\n",
       "      <td>0.0</td>\n",
       "      <td>257.0</td>\n",
       "      <td>2</td>\n",
       "      <td>12</td>\n",
       "      <td>34.678474</td>\n",
       "    </tr>\n",
       "    <tr>\n",
       "      <th>941</th>\n",
       "      <td>2021-01-27</td>\n",
       "      <td>40</td>\n",
       "      <td>188.27</td>\n",
       "      <td>0.0</td>\n",
       "      <td>259.0</td>\n",
       "      <td>2</td>\n",
       "      <td>1</td>\n",
       "      <td>34.887618</td>\n",
       "    </tr>\n",
       "    <tr>\n",
       "      <th>370</th>\n",
       "      <td>2019-07-06</td>\n",
       "      <td>0</td>\n",
       "      <td>9.24</td>\n",
       "      <td>0.0</td>\n",
       "      <td>95.0</td>\n",
       "      <td>5</td>\n",
       "      <td>7</td>\n",
       "      <td>0.905597</td>\n",
       "    </tr>\n",
       "    <tr>\n",
       "      <th>685</th>\n",
       "      <td>2020-05-16</td>\n",
       "      <td>8</td>\n",
       "      <td>41.03</td>\n",
       "      <td>0.0</td>\n",
       "      <td>185.0</td>\n",
       "      <td>5</td>\n",
       "      <td>5</td>\n",
       "      <td>11.679568</td>\n",
       "    </tr>\n",
       "    <tr>\n",
       "      <th>813</th>\n",
       "      <td>2020-09-21</td>\n",
       "      <td>17</td>\n",
       "      <td>2.81</td>\n",
       "      <td>0.0</td>\n",
       "      <td>219.0</td>\n",
       "      <td>0</td>\n",
       "      <td>9</td>\n",
       "      <td>11.962772</td>\n",
       "    </tr>\n",
       "    <tr>\n",
       "      <th>400</th>\n",
       "      <td>2019-08-05</td>\n",
       "      <td>0</td>\n",
       "      <td>0.00</td>\n",
       "      <td>0.0</td>\n",
       "      <td>123.0</td>\n",
       "      <td>0</td>\n",
       "      <td>8</td>\n",
       "      <td>2.642643</td>\n",
       "    </tr>\n",
       "    <tr>\n",
       "      <th>523</th>\n",
       "      <td>2019-12-06</td>\n",
       "      <td>0</td>\n",
       "      <td>3.04</td>\n",
       "      <td>0.0</td>\n",
       "      <td>93.0</td>\n",
       "      <td>4</td>\n",
       "      <td>12</td>\n",
       "      <td>1.761034</td>\n",
       "    </tr>\n",
       "  </tbody>\n",
       "</table>\n",
       "</div>"
      ],
      "text/plain": [
       "        Giorno  Transazioni  Spesa Facebook  google  Organico  day_week  \\\n",
       "566 2020-01-18            2           10.18     0.0      77.0         5   \n",
       "805 2020-09-13           13            0.00     0.0     261.0         6   \n",
       "767 2020-08-06           19            0.00     0.0     266.0         3   \n",
       "899 2020-12-16           35           89.56     0.0     257.0         2   \n",
       "941 2021-01-27           40          188.27     0.0     259.0         2   \n",
       "370 2019-07-06            0            9.24     0.0      95.0         5   \n",
       "685 2020-05-16            8           41.03     0.0     185.0         5   \n",
       "813 2020-09-21           17            2.81     0.0     219.0         0   \n",
       "400 2019-08-05            0            0.00     0.0     123.0         0   \n",
       "523 2019-12-06            0            3.04     0.0      93.0         4   \n",
       "\n",
       "     month  prediction  \n",
       "566      1    0.496949  \n",
       "805      9   12.833042  \n",
       "767      8   14.106570  \n",
       "899     12   34.678474  \n",
       "941      1   34.887618  \n",
       "370      7    0.905597  \n",
       "685      5   11.679568  \n",
       "813      9   11.962772  \n",
       "400      8    2.642643  \n",
       "523     12    1.761034  "
      ]
     },
     "execution_count": 42,
     "metadata": {},
     "output_type": "execute_result"
    }
   ],
   "source": [
    "df['prediction']= prediction\n",
    "df.sample(10)"
   ]
  },
  {
   "cell_type": "code",
   "execution_count": 51,
   "metadata": {},
   "outputs": [
    {
     "data": {
      "text/html": [
       "<div>\n",
       "<style scoped>\n",
       "    .dataframe tbody tr th:only-of-type {\n",
       "        vertical-align: middle;\n",
       "    }\n",
       "\n",
       "    .dataframe tbody tr th {\n",
       "        vertical-align: top;\n",
       "    }\n",
       "\n",
       "    .dataframe thead th {\n",
       "        text-align: right;\n",
       "    }\n",
       "</style>\n",
       "<table border=\"1\" class=\"dataframe\">\n",
       "  <thead>\n",
       "    <tr style=\"text-align: right;\">\n",
       "      <th></th>\n",
       "      <th>Giorno</th>\n",
       "      <th>Transazioni</th>\n",
       "      <th>Spesa Facebook</th>\n",
       "      <th>google</th>\n",
       "      <th>Organico</th>\n",
       "      <th>day_week</th>\n",
       "      <th>month</th>\n",
       "      <th>prediction</th>\n",
       "      <th>error</th>\n",
       "    </tr>\n",
       "  </thead>\n",
       "  <tbody>\n",
       "    <tr>\n",
       "      <th>1174</th>\n",
       "      <td>2021-09-17</td>\n",
       "      <td>24</td>\n",
       "      <td>173.00</td>\n",
       "      <td>50.14</td>\n",
       "      <td>135.0</td>\n",
       "      <td>4</td>\n",
       "      <td>9</td>\n",
       "      <td>24.558802</td>\n",
       "      <td>-0.558802</td>\n",
       "    </tr>\n",
       "    <tr>\n",
       "      <th>1175</th>\n",
       "      <td>2021-09-18</td>\n",
       "      <td>23</td>\n",
       "      <td>124.01</td>\n",
       "      <td>46.62</td>\n",
       "      <td>153.0</td>\n",
       "      <td>5</td>\n",
       "      <td>9</td>\n",
       "      <td>20.606560</td>\n",
       "      <td>2.393440</td>\n",
       "    </tr>\n",
       "    <tr>\n",
       "      <th>1176</th>\n",
       "      <td>2021-09-19</td>\n",
       "      <td>18</td>\n",
       "      <td>117.29</td>\n",
       "      <td>41.62</td>\n",
       "      <td>182.0</td>\n",
       "      <td>6</td>\n",
       "      <td>9</td>\n",
       "      <td>24.861915</td>\n",
       "      <td>-6.861915</td>\n",
       "    </tr>\n",
       "    <tr>\n",
       "      <th>1177</th>\n",
       "      <td>2021-09-20</td>\n",
       "      <td>23</td>\n",
       "      <td>106.34</td>\n",
       "      <td>44.57</td>\n",
       "      <td>219.0</td>\n",
       "      <td>0</td>\n",
       "      <td>9</td>\n",
       "      <td>33.399050</td>\n",
       "      <td>-10.399050</td>\n",
       "    </tr>\n",
       "    <tr>\n",
       "      <th>1178</th>\n",
       "      <td>2021-09-21</td>\n",
       "      <td>26</td>\n",
       "      <td>117.14</td>\n",
       "      <td>43.08</td>\n",
       "      <td>167.0</td>\n",
       "      <td>1</td>\n",
       "      <td>9</td>\n",
       "      <td>26.893021</td>\n",
       "      <td>-0.893021</td>\n",
       "    </tr>\n",
       "    <tr>\n",
       "      <th>1179</th>\n",
       "      <td>2021-09-22</td>\n",
       "      <td>19</td>\n",
       "      <td>119.25</td>\n",
       "      <td>29.77</td>\n",
       "      <td>155.0</td>\n",
       "      <td>2</td>\n",
       "      <td>9</td>\n",
       "      <td>24.535212</td>\n",
       "      <td>-5.535212</td>\n",
       "    </tr>\n",
       "    <tr>\n",
       "      <th>1180</th>\n",
       "      <td>2021-09-23</td>\n",
       "      <td>28</td>\n",
       "      <td>119.02</td>\n",
       "      <td>47.25</td>\n",
       "      <td>152.0</td>\n",
       "      <td>3</td>\n",
       "      <td>9</td>\n",
       "      <td>23.405225</td>\n",
       "      <td>4.594775</td>\n",
       "    </tr>\n",
       "    <tr>\n",
       "      <th>1181</th>\n",
       "      <td>2021-09-24</td>\n",
       "      <td>21</td>\n",
       "      <td>142.29</td>\n",
       "      <td>41.87</td>\n",
       "      <td>160.0</td>\n",
       "      <td>4</td>\n",
       "      <td>9</td>\n",
       "      <td>24.638409</td>\n",
       "      <td>-3.638409</td>\n",
       "    </tr>\n",
       "    <tr>\n",
       "      <th>1182</th>\n",
       "      <td>2021-09-25</td>\n",
       "      <td>20</td>\n",
       "      <td>171.69</td>\n",
       "      <td>42.00</td>\n",
       "      <td>120.0</td>\n",
       "      <td>5</td>\n",
       "      <td>9</td>\n",
       "      <td>19.553169</td>\n",
       "      <td>0.446831</td>\n",
       "    </tr>\n",
       "    <tr>\n",
       "      <th>1183</th>\n",
       "      <td>2021-09-26</td>\n",
       "      <td>13</td>\n",
       "      <td>167.26</td>\n",
       "      <td>41.17</td>\n",
       "      <td>154.0</td>\n",
       "      <td>6</td>\n",
       "      <td>9</td>\n",
       "      <td>22.358349</td>\n",
       "      <td>-9.358349</td>\n",
       "    </tr>\n",
       "  </tbody>\n",
       "</table>\n",
       "</div>"
      ],
      "text/plain": [
       "         Giorno  Transazioni  Spesa Facebook  google  Organico  day_week  \\\n",
       "1174 2021-09-17           24          173.00   50.14     135.0         4   \n",
       "1175 2021-09-18           23          124.01   46.62     153.0         5   \n",
       "1176 2021-09-19           18          117.29   41.62     182.0         6   \n",
       "1177 2021-09-20           23          106.34   44.57     219.0         0   \n",
       "1178 2021-09-21           26          117.14   43.08     167.0         1   \n",
       "1179 2021-09-22           19          119.25   29.77     155.0         2   \n",
       "1180 2021-09-23           28          119.02   47.25     152.0         3   \n",
       "1181 2021-09-24           21          142.29   41.87     160.0         4   \n",
       "1182 2021-09-25           20          171.69   42.00     120.0         5   \n",
       "1183 2021-09-26           13          167.26   41.17     154.0         6   \n",
       "\n",
       "      month  prediction      error  \n",
       "1174      9   24.558802  -0.558802  \n",
       "1175      9   20.606560   2.393440  \n",
       "1176      9   24.861915  -6.861915  \n",
       "1177      9   33.399050 -10.399050  \n",
       "1178      9   26.893021  -0.893021  \n",
       "1179      9   24.535212  -5.535212  \n",
       "1180      9   23.405225   4.594775  \n",
       "1181      9   24.638409  -3.638409  \n",
       "1182      9   19.553169   0.446831  \n",
       "1183      9   22.358349  -9.358349  "
      ]
     },
     "execution_count": 51,
     "metadata": {},
     "output_type": "execute_result"
    }
   ],
   "source": [
    "df['error'] = df['Transazioni']-df['prediction']\n",
    "df.tail(10)"
   ]
  },
  {
   "cell_type": "code",
   "execution_count": 49,
   "metadata": {},
   "outputs": [
    {
     "data": {
      "text/plain": [
       "<AxesSubplot:xlabel='error', ylabel='Transazioni'>"
      ]
     },
     "execution_count": 49,
     "metadata": {},
     "output_type": "execute_result"
    },
    {
     "data": {
      "image/png": "[encoded data removed]",
      "text/plain": [
       "<Figure size 432x288 with 1 Axes>"
      ]
     },
     "metadata": {
      "needs_background": "light"
     },
     "output_type": "display_data"
    }
   ],
   "source": [
    "sns.scatterplot(data = df, x='error', y='Transazioni', alpha = 0.1)"
   ]
  },
  {
   "cell_type": "code",
   "execution_count": 50,
   "metadata": {},
   "outputs": [
    {
     "name": "stderr",
     "output_type": "stream",
     "text": [
      "/Users/gabriele/opt/anaconda3/lib/python3.8/site-packages/seaborn/distributions.py:2551: FutureWarning: `distplot` is a deprecated function and will be removed in a future version. Please adapt your code to use either `displot` (a figure-level function with similar flexibility) or `histplot` (an axes-level function for histograms).\n",
      "  warnings.warn(msg, FutureWarning)\n"
     ]
    },
    {
     "data": {
      "text/plain": [
       "<AxesSubplot:xlabel='error', ylabel='Density'>"
      ]
     },
     "execution_count": 50,
     "metadata": {},
     "output_type": "execute_result"
    },
    {
     "data": {
      "image/png": "[encoded data removed]",
      "text/plain": [
       "<Figure size 432x288 with 1 Axes>"
      ]
     },
     "metadata": {
      "needs_background": "light"
     },
     "output_type": "display_data"
    }
   ],
   "source": [
    "sns.distplot(df['error'])"
   ]
  },
  {
   "cell_type": "code",
   "execution_count": 54,
   "metadata": {},
   "outputs": [
    {
     "data": {
      "text/plain": [
       "<AxesSubplot:xlabel='Giorno', ylabel='Transazioni'>"
      ]
     },
     "execution_count": 54,
     "metadata": {},
     "output_type": "execute_result"
    },
    {
     "data": {
      "image/png": "[encoded data removed]",
      "text/plain": [
       "<Figure size 432x288 with 1 Axes>"
      ]
     },
     "metadata": {
      "needs_background": "light"
     },
     "output_type": "display_data"
    }
   ],
   "source": [
    "sns.lineplot(data= df, x='Giorno', y= 'Transazioni')\n",
    "sns.lineplot(data= df, x='Giorno', y= 'prediction')"
   ]
  },
  {
   "cell_type": "code",
   "execution_count": 56,
   "metadata": {},
   "outputs": [
    {
     "data": {
      "text/html": [
       "<div>\n",
       "<style scoped>\n",
       "    .dataframe tbody tr th:only-of-type {\n",
       "        vertical-align: middle;\n",
       "    }\n",
       "\n",
       "    .dataframe tbody tr th {\n",
       "        vertical-align: top;\n",
       "    }\n",
       "\n",
       "    .dataframe thead th {\n",
       "        text-align: right;\n",
       "    }\n",
       "</style>\n",
       "<table border=\"1\" class=\"dataframe\">\n",
       "  <thead>\n",
       "    <tr style=\"text-align: right;\">\n",
       "      <th></th>\n",
       "      <th>Giorno</th>\n",
       "      <th>Transazioni</th>\n",
       "      <th>Spesa Facebook</th>\n",
       "      <th>google</th>\n",
       "      <th>Organico</th>\n",
       "      <th>day_week</th>\n",
       "      <th>month</th>\n",
       "    </tr>\n",
       "  </thead>\n",
       "  <tbody>\n",
       "    <tr>\n",
       "      <th>0</th>\n",
       "      <td>2018-07-01</td>\n",
       "      <td>0</td>\n",
       "      <td>0.0</td>\n",
       "      <td>0.0</td>\n",
       "      <td>32.0</td>\n",
       "      <td>6</td>\n",
       "      <td>7</td>\n",
       "    </tr>\n",
       "    <tr>\n",
       "      <th>1</th>\n",
       "      <td>2018-07-02</td>\n",
       "      <td>0</td>\n",
       "      <td>0.0</td>\n",
       "      <td>0.0</td>\n",
       "      <td>41.0</td>\n",
       "      <td>0</td>\n",
       "      <td>7</td>\n",
       "    </tr>\n",
       "    <tr>\n",
       "      <th>2</th>\n",
       "      <td>2018-07-03</td>\n",
       "      <td>0</td>\n",
       "      <td>0.0</td>\n",
       "      <td>0.0</td>\n",
       "      <td>28.0</td>\n",
       "      <td>1</td>\n",
       "      <td>7</td>\n",
       "    </tr>\n",
       "    <tr>\n",
       "      <th>3</th>\n",
       "      <td>2018-07-04</td>\n",
       "      <td>0</td>\n",
       "      <td>0.0</td>\n",
       "      <td>0.0</td>\n",
       "      <td>21.0</td>\n",
       "      <td>2</td>\n",
       "      <td>7</td>\n",
       "    </tr>\n",
       "    <tr>\n",
       "      <th>4</th>\n",
       "      <td>2018-07-05</td>\n",
       "      <td>0</td>\n",
       "      <td>0.0</td>\n",
       "      <td>0.0</td>\n",
       "      <td>32.0</td>\n",
       "      <td>3</td>\n",
       "      <td>7</td>\n",
       "    </tr>\n",
       "  </tbody>\n",
       "</table>\n",
       "</div>"
      ],
      "text/plain": [
       "      Giorno  Transazioni  Spesa Facebook  google  Organico  day_week  month\n",
       "0 2018-07-01            0             0.0     0.0      32.0         6      7\n",
       "1 2018-07-02            0             0.0     0.0      41.0         0      7\n",
       "2 2018-07-03            0             0.0     0.0      28.0         1      7\n",
       "3 2018-07-04            0             0.0     0.0      21.0         2      7\n",
       "4 2018-07-05            0             0.0     0.0      32.0         3      7"
      ]
     },
     "execution_count": 56,
     "metadata": {},
     "output_type": "execute_result"
    }
   ],
   "source": [
    "rt=df[['Giorno','Transazioni', 'Spesa Facebook', 'google', 'Organico','day_week', 'month']]\n",
    "rt.head()"
   ]
  },
  {
   "cell_type": "code",
   "execution_count": 57,
   "metadata": {},
   "outputs": [],
   "source": [
    "rt.to_csv('Df_Bialetti.csv')"
   ]
  },
  {
   "cell_type": "code",
   "execution_count": null,
   "metadata": {},
   "outputs": [],
   "source": []
  }
 ],
 "metadata": {
  "kernelspec": {
   "display_name": "Python 3",
   "language": "python",
   "name": "python3"
  },
  "language_info": {
   "codemirror_mode": {
    "name": "ipython",
    "version": 3
   },
   "file_extension": ".py",
   "mimetype": "text/x-python",
   "name": "python",
   "nbconvert_exporter": "python",
   "pygments_lexer": "ipython3",
   "version": "3.8.5"
  }
 },
 "nbformat": 4,
 "nbformat_minor": 4
}
